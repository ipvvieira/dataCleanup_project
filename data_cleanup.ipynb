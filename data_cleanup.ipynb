{
 "cells": [
  {
   "cell_type": "markdown",
   "metadata": {},
   "source": [
    "<h1>US Chronic Diseases dataset analysis</h1>\n",
    "\n",
    "This project is a step-by-step tutorial on how to clean-up the 'US Chronic Diseases dataset' available at https://query.data.world/s/cq2qqiqiurofdzr524tudy3ujjz6fu?dws=00000 .\n",
    "\n",
    "As it happens in any dataset, we need to first evaluate the data file format (CSV, XLS, JSON, Parquet...) to decide the next steps for the consumption of this data. In this case, the provided dataset is in Comma Separated Values (CSV). So the data is downloaded from the server and we are going to find out some basic informations about it. For that, we are going to import and use the <b>Pandas</b> library to manipulate the data.\n",
    "<br><br>\n",
    "<b>Note 1</b>: The command \"pd.read_csv(url,na_values=['', ' ', 'null'])\" in the function dataIngest contains the argument na_values that already gives an initial treatment of null values such as empty cells, cells filled with simple or double spacing, containing the string 'null' and gives the NaN value to represent this data. This is important for later removal or transforming of such values. \n",
    "<br><br>\n",
    "<b>Note 2</b>: As this is a small dataset, downloading is a faster way to work with it. However, this may not be viable for larger datasets and other strategies are applied.\n",
    "<br><br>\n",
    "A simpler way to perform the same task would be using SQL language with the code below:"
   ]
  },
  {
   "cell_type": "markdown",
   "metadata": {},
   "source": [
    "SELECT<br> \n",
    "YearStart, YearEnd, LocationAbbr, LocationDesc, DataSource, Topic, Question, DataValueUnit, DataValueTypeID,\n",
    "DataValueType, DataValue, DataValueAlt, DataValueFootnoteSymbol, DatavalueFootnote, LowConfidenceLimit, \n",
    "HighConfidenceLimit, StratificationCategory1, Stratification1, GeoLocation, TopicID, QuestionID, LocationID,\n",
    "StratificationCategoryID1, StratificationID1\n",
    "<br>\n",
    "FROM \n",
    "<br>\n",
    "U.S._Chronic_Disease_Indicators__CDI_"
   ]
  },
  {
   "cell_type": "markdown",
   "metadata": {},
   "source": [
    "After downloading the dataset, this algorithm prints the first and last 5 rows of every column so we can visually check the dataset for any signs of misinterpretation of the data such as strings with special symbols or incorrect column names, for example.\n",
    "<br><br>\n",
    "Next, we use the Pandas .describe function to print statistical information about our columns and the .info function for column names, counts and datatypes.\n",
    "<br>"
   ]
  },
  {
   "cell_type": "code",
   "execution_count": 2,
   "metadata": {
    "colab": {
     "base_uri": "https://localhost:8080/",
     "height": 1000
    },
    "executionInfo": {
     "elapsed": 4635,
     "status": "ok",
     "timestamp": 1719605178788,
     "user": {
      "displayName": "Igor Vieira",
      "userId": "11245460683209014961"
     },
     "user_tz": 180
    },
    "id": "8Z6RZckpc73R",
    "outputId": "638f5292-42cc-4add-a5eb-facfb3d95ac6"
   },
   "outputs": [
    {
     "name": "stderr",
     "output_type": "stream",
     "text": [
      "C:\\Users\\igorv\\AppData\\Local\\Temp\\ipykernel_17764\\2723164581.py:5: DtypeWarning: Columns (11,27) have mixed types. Specify dtype option on import or set low_memory=False.\n",
      "  df = pd.read_csv(url,na_values=['', ' ', 'null', 'NaN'])\n"
     ]
    },
    {
     "name": "stdout",
     "output_type": "stream",
     "text": [
      "Using the URL https://query.data.world/s/cq2qqiqiurofdzr524tudy3ujjz6fu?dws=00000 to download the CSV file \n",
      " \n",
      "\n",
      "Here are the 5 first rows of your dataframe:\n",
      "\n"
     ]
    },
    {
     "data": {
      "text/html": [
       "<div>\n",
       "<style scoped>\n",
       "    .dataframe tbody tr th:only-of-type {\n",
       "        vertical-align: middle;\n",
       "    }\n",
       "\n",
       "    .dataframe tbody tr th {\n",
       "        vertical-align: top;\n",
       "    }\n",
       "\n",
       "    .dataframe thead th {\n",
       "        text-align: right;\n",
       "    }\n",
       "</style>\n",
       "<table border=\"1\" class=\"dataframe\">\n",
       "  <thead>\n",
       "    <tr style=\"text-align: right;\">\n",
       "      <th></th>\n",
       "      <th>YearStart</th>\n",
       "      <th>YearEnd</th>\n",
       "      <th>LocationAbbr</th>\n",
       "      <th>LocationDesc</th>\n",
       "      <th>DataSource</th>\n",
       "      <th>Topic</th>\n",
       "      <th>Question</th>\n",
       "      <th>Response</th>\n",
       "      <th>DataValueUnit</th>\n",
       "      <th>DataValueTypeID</th>\n",
       "      <th>...</th>\n",
       "      <th>TopicID</th>\n",
       "      <th>QuestionID</th>\n",
       "      <th>ResponseID</th>\n",
       "      <th>LocationID</th>\n",
       "      <th>StratificationCategoryID1</th>\n",
       "      <th>StratificationID1</th>\n",
       "      <th>StratificationCategoryID2</th>\n",
       "      <th>StratificationID2</th>\n",
       "      <th>StratificationCategoryID3</th>\n",
       "      <th>StratificationID3</th>\n",
       "    </tr>\n",
       "  </thead>\n",
       "  <tbody>\n",
       "    <tr>\n",
       "      <th>0</th>\n",
       "      <td>2013</td>\n",
       "      <td>2013</td>\n",
       "      <td>CA</td>\n",
       "      <td>California</td>\n",
       "      <td>YRBSS</td>\n",
       "      <td>Alcohol</td>\n",
       "      <td>Alcohol use among youth</td>\n",
       "      <td>NaN</td>\n",
       "      <td>%</td>\n",
       "      <td>CrdPrev</td>\n",
       "      <td>...</td>\n",
       "      <td>ALC</td>\n",
       "      <td>ALC1_1</td>\n",
       "      <td>NaN</td>\n",
       "      <td>6</td>\n",
       "      <td>OVERALL</td>\n",
       "      <td>OVR</td>\n",
       "      <td>NaN</td>\n",
       "      <td>NaN</td>\n",
       "      <td>NaN</td>\n",
       "      <td>NaN</td>\n",
       "    </tr>\n",
       "    <tr>\n",
       "      <th>1</th>\n",
       "      <td>2013</td>\n",
       "      <td>2013</td>\n",
       "      <td>CO</td>\n",
       "      <td>Colorado</td>\n",
       "      <td>YRBSS</td>\n",
       "      <td>Alcohol</td>\n",
       "      <td>Alcohol use among youth</td>\n",
       "      <td>NaN</td>\n",
       "      <td>%</td>\n",
       "      <td>CrdPrev</td>\n",
       "      <td>...</td>\n",
       "      <td>ALC</td>\n",
       "      <td>ALC1_1</td>\n",
       "      <td>NaN</td>\n",
       "      <td>8</td>\n",
       "      <td>OVERALL</td>\n",
       "      <td>OVR</td>\n",
       "      <td>NaN</td>\n",
       "      <td>NaN</td>\n",
       "      <td>NaN</td>\n",
       "      <td>NaN</td>\n",
       "    </tr>\n",
       "    <tr>\n",
       "      <th>2</th>\n",
       "      <td>2013</td>\n",
       "      <td>2013</td>\n",
       "      <td>CT</td>\n",
       "      <td>Connecticut</td>\n",
       "      <td>YRBSS</td>\n",
       "      <td>Alcohol</td>\n",
       "      <td>Alcohol use among youth</td>\n",
       "      <td>NaN</td>\n",
       "      <td>%</td>\n",
       "      <td>CrdPrev</td>\n",
       "      <td>...</td>\n",
       "      <td>ALC</td>\n",
       "      <td>ALC1_1</td>\n",
       "      <td>NaN</td>\n",
       "      <td>9</td>\n",
       "      <td>OVERALL</td>\n",
       "      <td>OVR</td>\n",
       "      <td>NaN</td>\n",
       "      <td>NaN</td>\n",
       "      <td>NaN</td>\n",
       "      <td>NaN</td>\n",
       "    </tr>\n",
       "    <tr>\n",
       "      <th>3</th>\n",
       "      <td>2013</td>\n",
       "      <td>2013</td>\n",
       "      <td>DC</td>\n",
       "      <td>District of Columbia</td>\n",
       "      <td>YRBSS</td>\n",
       "      <td>Alcohol</td>\n",
       "      <td>Alcohol use among youth</td>\n",
       "      <td>NaN</td>\n",
       "      <td>%</td>\n",
       "      <td>CrdPrev</td>\n",
       "      <td>...</td>\n",
       "      <td>ALC</td>\n",
       "      <td>ALC1_1</td>\n",
       "      <td>NaN</td>\n",
       "      <td>11</td>\n",
       "      <td>OVERALL</td>\n",
       "      <td>OVR</td>\n",
       "      <td>NaN</td>\n",
       "      <td>NaN</td>\n",
       "      <td>NaN</td>\n",
       "      <td>NaN</td>\n",
       "    </tr>\n",
       "    <tr>\n",
       "      <th>4</th>\n",
       "      <td>2013</td>\n",
       "      <td>2013</td>\n",
       "      <td>DE</td>\n",
       "      <td>Delaware</td>\n",
       "      <td>YRBSS</td>\n",
       "      <td>Alcohol</td>\n",
       "      <td>Alcohol use among youth</td>\n",
       "      <td>NaN</td>\n",
       "      <td>%</td>\n",
       "      <td>CrdPrev</td>\n",
       "      <td>...</td>\n",
       "      <td>ALC</td>\n",
       "      <td>ALC1_1</td>\n",
       "      <td>NaN</td>\n",
       "      <td>10</td>\n",
       "      <td>OVERALL</td>\n",
       "      <td>OVR</td>\n",
       "      <td>NaN</td>\n",
       "      <td>NaN</td>\n",
       "      <td>NaN</td>\n",
       "      <td>NaN</td>\n",
       "    </tr>\n",
       "  </tbody>\n",
       "</table>\n",
       "<p>5 rows × 34 columns</p>\n",
       "</div>"
      ],
      "text/plain": [
       "   YearStart  YearEnd LocationAbbr          LocationDesc DataSource    Topic  \\\n",
       "0       2013     2013           CA            California      YRBSS  Alcohol   \n",
       "1       2013     2013           CO              Colorado      YRBSS  Alcohol   \n",
       "2       2013     2013           CT           Connecticut      YRBSS  Alcohol   \n",
       "3       2013     2013           DC  District of Columbia      YRBSS  Alcohol   \n",
       "4       2013     2013           DE              Delaware      YRBSS  Alcohol   \n",
       "\n",
       "                  Question  Response DataValueUnit DataValueTypeID  ...  \\\n",
       "0  Alcohol use among youth       NaN             %         CrdPrev  ...   \n",
       "1  Alcohol use among youth       NaN             %         CrdPrev  ...   \n",
       "2  Alcohol use among youth       NaN             %         CrdPrev  ...   \n",
       "3  Alcohol use among youth       NaN             %         CrdPrev  ...   \n",
       "4  Alcohol use among youth       NaN             %         CrdPrev  ...   \n",
       "\n",
       "  TopicID QuestionID  ResponseID LocationID StratificationCategoryID1  \\\n",
       "0     ALC     ALC1_1         NaN          6                   OVERALL   \n",
       "1     ALC     ALC1_1         NaN          8                   OVERALL   \n",
       "2     ALC     ALC1_1         NaN          9                   OVERALL   \n",
       "3     ALC     ALC1_1         NaN         11                   OVERALL   \n",
       "4     ALC     ALC1_1         NaN         10                   OVERALL   \n",
       "\n",
       "   StratificationID1  StratificationCategoryID2 StratificationID2  \\\n",
       "0                OVR                        NaN               NaN   \n",
       "1                OVR                        NaN               NaN   \n",
       "2                OVR                        NaN               NaN   \n",
       "3                OVR                        NaN               NaN   \n",
       "4                OVR                        NaN               NaN   \n",
       "\n",
       "  StratificationCategoryID3  StratificationID3  \n",
       "0                       NaN                NaN  \n",
       "1                       NaN                NaN  \n",
       "2                       NaN                NaN  \n",
       "3                       NaN                NaN  \n",
       "4                       NaN                NaN  \n",
       "\n",
       "[5 rows x 34 columns]"
      ]
     },
     "metadata": {},
     "output_type": "display_data"
    },
    {
     "name": "stdout",
     "output_type": "stream",
     "text": [
      "Here are the 5 last rows of your dataframe:\n",
      "\n"
     ]
    },
    {
     "data": {
      "text/html": [
       "<div>\n",
       "<style scoped>\n",
       "    .dataframe tbody tr th:only-of-type {\n",
       "        vertical-align: middle;\n",
       "    }\n",
       "\n",
       "    .dataframe tbody tr th {\n",
       "        vertical-align: top;\n",
       "    }\n",
       "\n",
       "    .dataframe thead th {\n",
       "        text-align: right;\n",
       "    }\n",
       "</style>\n",
       "<table border=\"1\" class=\"dataframe\">\n",
       "  <thead>\n",
       "    <tr style=\"text-align: right;\">\n",
       "      <th></th>\n",
       "      <th>YearStart</th>\n",
       "      <th>YearEnd</th>\n",
       "      <th>LocationAbbr</th>\n",
       "      <th>LocationDesc</th>\n",
       "      <th>DataSource</th>\n",
       "      <th>Topic</th>\n",
       "      <th>Question</th>\n",
       "      <th>Response</th>\n",
       "      <th>DataValueUnit</th>\n",
       "      <th>DataValueTypeID</th>\n",
       "      <th>...</th>\n",
       "      <th>TopicID</th>\n",
       "      <th>QuestionID</th>\n",
       "      <th>ResponseID</th>\n",
       "      <th>LocationID</th>\n",
       "      <th>StratificationCategoryID1</th>\n",
       "      <th>StratificationID1</th>\n",
       "      <th>StratificationCategoryID2</th>\n",
       "      <th>StratificationID2</th>\n",
       "      <th>StratificationCategoryID3</th>\n",
       "      <th>StratificationID3</th>\n",
       "    </tr>\n",
       "  </thead>\n",
       "  <tbody>\n",
       "    <tr>\n",
       "      <th>237956</th>\n",
       "      <td>2012</td>\n",
       "      <td>2012</td>\n",
       "      <td>WI</td>\n",
       "      <td>Wisconsin</td>\n",
       "      <td>BRFSS</td>\n",
       "      <td>Older Adults</td>\n",
       "      <td>Proportion of older adults aged 50-64 years wh...</td>\n",
       "      <td>NaN</td>\n",
       "      <td>%</td>\n",
       "      <td>AgeAdjPrev</td>\n",
       "      <td>...</td>\n",
       "      <td>OLD</td>\n",
       "      <td>OLD3_2</td>\n",
       "      <td>NaN</td>\n",
       "      <td>55</td>\n",
       "      <td>RACE</td>\n",
       "      <td>MRC</td>\n",
       "      <td>NaN</td>\n",
       "      <td>NaN</td>\n",
       "      <td>NaN</td>\n",
       "      <td>NaN</td>\n",
       "    </tr>\n",
       "    <tr>\n",
       "      <th>237957</th>\n",
       "      <td>2012</td>\n",
       "      <td>2012</td>\n",
       "      <td>WY</td>\n",
       "      <td>Wyoming</td>\n",
       "      <td>BRFSS</td>\n",
       "      <td>Older Adults</td>\n",
       "      <td>Proportion of older adults aged 50-64 years wh...</td>\n",
       "      <td>NaN</td>\n",
       "      <td>%</td>\n",
       "      <td>AgeAdjPrev</td>\n",
       "      <td>...</td>\n",
       "      <td>OLD</td>\n",
       "      <td>OLD3_2</td>\n",
       "      <td>NaN</td>\n",
       "      <td>56</td>\n",
       "      <td>RACE</td>\n",
       "      <td>MRC</td>\n",
       "      <td>NaN</td>\n",
       "      <td>NaN</td>\n",
       "      <td>NaN</td>\n",
       "      <td>NaN</td>\n",
       "    </tr>\n",
       "    <tr>\n",
       "      <th>237958</th>\n",
       "      <td>2012</td>\n",
       "      <td>2012</td>\n",
       "      <td>GU</td>\n",
       "      <td>Guam</td>\n",
       "      <td>BRFSS</td>\n",
       "      <td>Older Adults</td>\n",
       "      <td>Proportion of older adults aged 50-64 years wh...</td>\n",
       "      <td>NaN</td>\n",
       "      <td>%</td>\n",
       "      <td>AgeAdjPrev</td>\n",
       "      <td>...</td>\n",
       "      <td>OLD</td>\n",
       "      <td>OLD3_2</td>\n",
       "      <td>NaN</td>\n",
       "      <td>66</td>\n",
       "      <td>RACE</td>\n",
       "      <td>MRC</td>\n",
       "      <td>NaN</td>\n",
       "      <td>NaN</td>\n",
       "      <td>NaN</td>\n",
       "      <td>NaN</td>\n",
       "    </tr>\n",
       "    <tr>\n",
       "      <th>237959</th>\n",
       "      <td>2012</td>\n",
       "      <td>2012</td>\n",
       "      <td>PR</td>\n",
       "      <td>Puerto Rico</td>\n",
       "      <td>BRFSS</td>\n",
       "      <td>Older Adults</td>\n",
       "      <td>Proportion of older adults aged 50-64 years wh...</td>\n",
       "      <td>NaN</td>\n",
       "      <td>%</td>\n",
       "      <td>AgeAdjPrev</td>\n",
       "      <td>...</td>\n",
       "      <td>OLD</td>\n",
       "      <td>OLD3_2</td>\n",
       "      <td>NaN</td>\n",
       "      <td>72</td>\n",
       "      <td>RACE</td>\n",
       "      <td>MRC</td>\n",
       "      <td>NaN</td>\n",
       "      <td>NaN</td>\n",
       "      <td>NaN</td>\n",
       "      <td>NaN</td>\n",
       "    </tr>\n",
       "    <tr>\n",
       "      <th>237960</th>\n",
       "      <td>2012</td>\n",
       "      <td>2012</td>\n",
       "      <td>VI</td>\n",
       "      <td>Virgin Islands</td>\n",
       "      <td>BRFSS</td>\n",
       "      <td>Older Adults</td>\n",
       "      <td>Proportion of older adults aged 50-64 years wh...</td>\n",
       "      <td>NaN</td>\n",
       "      <td>%</td>\n",
       "      <td>AgeAdjPrev</td>\n",
       "      <td>...</td>\n",
       "      <td>OLD</td>\n",
       "      <td>OLD3_2</td>\n",
       "      <td>NaN</td>\n",
       "      <td>78</td>\n",
       "      <td>RACE</td>\n",
       "      <td>MRC</td>\n",
       "      <td>NaN</td>\n",
       "      <td>NaN</td>\n",
       "      <td>NaN</td>\n",
       "      <td>NaN</td>\n",
       "    </tr>\n",
       "  </tbody>\n",
       "</table>\n",
       "<p>5 rows × 34 columns</p>\n",
       "</div>"
      ],
      "text/plain": [
       "        YearStart  YearEnd LocationAbbr    LocationDesc DataSource  \\\n",
       "237956       2012     2012           WI       Wisconsin      BRFSS   \n",
       "237957       2012     2012           WY         Wyoming      BRFSS   \n",
       "237958       2012     2012           GU            Guam      BRFSS   \n",
       "237959       2012     2012           PR     Puerto Rico      BRFSS   \n",
       "237960       2012     2012           VI  Virgin Islands      BRFSS   \n",
       "\n",
       "               Topic                                           Question  \\\n",
       "237956  Older Adults  Proportion of older adults aged 50-64 years wh...   \n",
       "237957  Older Adults  Proportion of older adults aged 50-64 years wh...   \n",
       "237958  Older Adults  Proportion of older adults aged 50-64 years wh...   \n",
       "237959  Older Adults  Proportion of older adults aged 50-64 years wh...   \n",
       "237960  Older Adults  Proportion of older adults aged 50-64 years wh...   \n",
       "\n",
       "        Response DataValueUnit DataValueTypeID  ... TopicID QuestionID  \\\n",
       "237956       NaN             %      AgeAdjPrev  ...     OLD     OLD3_2   \n",
       "237957       NaN             %      AgeAdjPrev  ...     OLD     OLD3_2   \n",
       "237958       NaN             %      AgeAdjPrev  ...     OLD     OLD3_2   \n",
       "237959       NaN             %      AgeAdjPrev  ...     OLD     OLD3_2   \n",
       "237960       NaN             %      AgeAdjPrev  ...     OLD     OLD3_2   \n",
       "\n",
       "        ResponseID LocationID StratificationCategoryID1  StratificationID1  \\\n",
       "237956         NaN         55                      RACE                MRC   \n",
       "237957         NaN         56                      RACE                MRC   \n",
       "237958         NaN         66                      RACE                MRC   \n",
       "237959         NaN         72                      RACE                MRC   \n",
       "237960         NaN         78                      RACE                MRC   \n",
       "\n",
       "        StratificationCategoryID2 StratificationID2 StratificationCategoryID3  \\\n",
       "237956                        NaN               NaN                       NaN   \n",
       "237957                        NaN               NaN                       NaN   \n",
       "237958                        NaN               NaN                       NaN   \n",
       "237959                        NaN               NaN                       NaN   \n",
       "237960                        NaN               NaN                       NaN   \n",
       "\n",
       "        StratificationID3  \n",
       "237956                NaN  \n",
       "237957                NaN  \n",
       "237958                NaN  \n",
       "237959                NaN  \n",
       "237960                NaN  \n",
       "\n",
       "[5 rows x 34 columns]"
      ]
     },
     "metadata": {},
     "output_type": "display_data"
    },
    {
     "name": "stdout",
     "output_type": "stream",
     "text": [
      "\n",
      "Here is the statistical description of your dataframe: \n",
      "\n"
     ]
    },
    {
     "data": {
      "text/html": [
       "<div>\n",
       "<style scoped>\n",
       "    .dataframe tbody tr th:only-of-type {\n",
       "        vertical-align: middle;\n",
       "    }\n",
       "\n",
       "    .dataframe tbody tr th {\n",
       "        vertical-align: top;\n",
       "    }\n",
       "\n",
       "    .dataframe thead th {\n",
       "        text-align: right;\n",
       "    }\n",
       "</style>\n",
       "<table border=\"1\" class=\"dataframe\">\n",
       "  <thead>\n",
       "    <tr style=\"text-align: right;\">\n",
       "      <th></th>\n",
       "      <th>YearStart</th>\n",
       "      <th>YearEnd</th>\n",
       "      <th>Response</th>\n",
       "      <th>DataValueAlt</th>\n",
       "      <th>LowConfidenceLimit</th>\n",
       "      <th>HighConfidenceLimit</th>\n",
       "      <th>StratificationCategory2</th>\n",
       "      <th>Stratification2</th>\n",
       "      <th>StratificationCategory3</th>\n",
       "      <th>Stratification3</th>\n",
       "      <th>ResponseID</th>\n",
       "      <th>StratificationCategoryID2</th>\n",
       "      <th>StratificationID2</th>\n",
       "      <th>StratificationCategoryID3</th>\n",
       "      <th>StratificationID3</th>\n",
       "    </tr>\n",
       "  </thead>\n",
       "  <tbody>\n",
       "    <tr>\n",
       "      <th>count</th>\n",
       "      <td>237961.000000</td>\n",
       "      <td>237961.000000</td>\n",
       "      <td>0.0</td>\n",
       "      <td>1.659960e+05</td>\n",
       "      <td>141388.000000</td>\n",
       "      <td>141388.000000</td>\n",
       "      <td>0.0</td>\n",
       "      <td>0.0</td>\n",
       "      <td>0.0</td>\n",
       "      <td>0.0</td>\n",
       "      <td>0.0</td>\n",
       "      <td>0.0</td>\n",
       "      <td>0.0</td>\n",
       "      <td>0.0</td>\n",
       "      <td>0.0</td>\n",
       "    </tr>\n",
       "    <tr>\n",
       "      <th>mean</th>\n",
       "      <td>2012.678254</td>\n",
       "      <td>2012.723833</td>\n",
       "      <td>NaN</td>\n",
       "      <td>9.659927e+02</td>\n",
       "      <td>60.392008</td>\n",
       "      <td>74.255692</td>\n",
       "      <td>NaN</td>\n",
       "      <td>NaN</td>\n",
       "      <td>NaN</td>\n",
       "      <td>NaN</td>\n",
       "      <td>NaN</td>\n",
       "      <td>NaN</td>\n",
       "      <td>NaN</td>\n",
       "      <td>NaN</td>\n",
       "      <td>NaN</td>\n",
       "    </tr>\n",
       "    <tr>\n",
       "      <th>std</th>\n",
       "      <td>1.367197</td>\n",
       "      <td>1.275515</td>\n",
       "      <td>NaN</td>\n",
       "      <td>1.884835e+04</td>\n",
       "      <td>102.967598</td>\n",
       "      <td>119.295383</td>\n",
       "      <td>NaN</td>\n",
       "      <td>NaN</td>\n",
       "      <td>NaN</td>\n",
       "      <td>NaN</td>\n",
       "      <td>NaN</td>\n",
       "      <td>NaN</td>\n",
       "      <td>NaN</td>\n",
       "      <td>NaN</td>\n",
       "      <td>NaN</td>\n",
       "    </tr>\n",
       "    <tr>\n",
       "      <th>min</th>\n",
       "      <td>2001.000000</td>\n",
       "      <td>2001.000000</td>\n",
       "      <td>NaN</td>\n",
       "      <td>0.000000e+00</td>\n",
       "      <td>0.000000</td>\n",
       "      <td>0.490000</td>\n",
       "      <td>NaN</td>\n",
       "      <td>NaN</td>\n",
       "      <td>NaN</td>\n",
       "      <td>NaN</td>\n",
       "      <td>NaN</td>\n",
       "      <td>NaN</td>\n",
       "      <td>NaN</td>\n",
       "      <td>NaN</td>\n",
       "      <td>NaN</td>\n",
       "    </tr>\n",
       "    <tr>\n",
       "      <th>25%</th>\n",
       "      <td>2012.000000</td>\n",
       "      <td>2012.000000</td>\n",
       "      <td>NaN</td>\n",
       "      <td>2.020000e+01</td>\n",
       "      <td>13.000000</td>\n",
       "      <td>19.700000</td>\n",
       "      <td>NaN</td>\n",
       "      <td>NaN</td>\n",
       "      <td>NaN</td>\n",
       "      <td>NaN</td>\n",
       "      <td>NaN</td>\n",
       "      <td>NaN</td>\n",
       "      <td>NaN</td>\n",
       "      <td>NaN</td>\n",
       "      <td>NaN</td>\n",
       "    </tr>\n",
       "    <tr>\n",
       "      <th>50%</th>\n",
       "      <td>2013.000000</td>\n",
       "      <td>2013.000000</td>\n",
       "      <td>NaN</td>\n",
       "      <td>4.830000e+01</td>\n",
       "      <td>34.100000</td>\n",
       "      <td>48.600000</td>\n",
       "      <td>NaN</td>\n",
       "      <td>NaN</td>\n",
       "      <td>NaN</td>\n",
       "      <td>NaN</td>\n",
       "      <td>NaN</td>\n",
       "      <td>NaN</td>\n",
       "      <td>NaN</td>\n",
       "      <td>NaN</td>\n",
       "      <td>NaN</td>\n",
       "    </tr>\n",
       "    <tr>\n",
       "      <th>75%</th>\n",
       "      <td>2014.000000</td>\n",
       "      <td>2014.000000</td>\n",
       "      <td>NaN</td>\n",
       "      <td>8.500000e+01</td>\n",
       "      <td>63.600000</td>\n",
       "      <td>77.100000</td>\n",
       "      <td>NaN</td>\n",
       "      <td>NaN</td>\n",
       "      <td>NaN</td>\n",
       "      <td>NaN</td>\n",
       "      <td>NaN</td>\n",
       "      <td>NaN</td>\n",
       "      <td>NaN</td>\n",
       "      <td>NaN</td>\n",
       "      <td>NaN</td>\n",
       "    </tr>\n",
       "    <tr>\n",
       "      <th>max</th>\n",
       "      <td>2014.000000</td>\n",
       "      <td>2014.000000</td>\n",
       "      <td>NaN</td>\n",
       "      <td>4.022808e+06</td>\n",
       "      <td>1293.000000</td>\n",
       "      <td>2088.000000</td>\n",
       "      <td>NaN</td>\n",
       "      <td>NaN</td>\n",
       "      <td>NaN</td>\n",
       "      <td>NaN</td>\n",
       "      <td>NaN</td>\n",
       "      <td>NaN</td>\n",
       "      <td>NaN</td>\n",
       "      <td>NaN</td>\n",
       "      <td>NaN</td>\n",
       "    </tr>\n",
       "  </tbody>\n",
       "</table>\n",
       "</div>"
      ],
      "text/plain": [
       "           YearStart        YearEnd  Response  DataValueAlt  \\\n",
       "count  237961.000000  237961.000000       0.0  1.659960e+05   \n",
       "mean     2012.678254    2012.723833       NaN  9.659927e+02   \n",
       "std         1.367197       1.275515       NaN  1.884835e+04   \n",
       "min      2001.000000    2001.000000       NaN  0.000000e+00   \n",
       "25%      2012.000000    2012.000000       NaN  2.020000e+01   \n",
       "50%      2013.000000    2013.000000       NaN  4.830000e+01   \n",
       "75%      2014.000000    2014.000000       NaN  8.500000e+01   \n",
       "max      2014.000000    2014.000000       NaN  4.022808e+06   \n",
       "\n",
       "       LowConfidenceLimit  HighConfidenceLimit  StratificationCategory2  \\\n",
       "count       141388.000000        141388.000000                      0.0   \n",
       "mean            60.392008            74.255692                      NaN   \n",
       "std            102.967598           119.295383                      NaN   \n",
       "min              0.000000             0.490000                      NaN   \n",
       "25%             13.000000            19.700000                      NaN   \n",
       "50%             34.100000            48.600000                      NaN   \n",
       "75%             63.600000            77.100000                      NaN   \n",
       "max           1293.000000          2088.000000                      NaN   \n",
       "\n",
       "       Stratification2  StratificationCategory3  Stratification3  ResponseID  \\\n",
       "count              0.0                      0.0              0.0         0.0   \n",
       "mean               NaN                      NaN              NaN         NaN   \n",
       "std                NaN                      NaN              NaN         NaN   \n",
       "min                NaN                      NaN              NaN         NaN   \n",
       "25%                NaN                      NaN              NaN         NaN   \n",
       "50%                NaN                      NaN              NaN         NaN   \n",
       "75%                NaN                      NaN              NaN         NaN   \n",
       "max                NaN                      NaN              NaN         NaN   \n",
       "\n",
       "       StratificationCategoryID2  StratificationID2  \\\n",
       "count                        0.0                0.0   \n",
       "mean                         NaN                NaN   \n",
       "std                          NaN                NaN   \n",
       "min                          NaN                NaN   \n",
       "25%                          NaN                NaN   \n",
       "50%                          NaN                NaN   \n",
       "75%                          NaN                NaN   \n",
       "max                          NaN                NaN   \n",
       "\n",
       "       StratificationCategoryID3  StratificationID3  \n",
       "count                        0.0                0.0  \n",
       "mean                         NaN                NaN  \n",
       "std                          NaN                NaN  \n",
       "min                          NaN                NaN  \n",
       "25%                          NaN                NaN  \n",
       "50%                          NaN                NaN  \n",
       "75%                          NaN                NaN  \n",
       "max                          NaN                NaN  "
      ]
     },
     "metadata": {},
     "output_type": "display_data"
    },
    {
     "name": "stdout",
     "output_type": "stream",
     "text": [
      "\n",
      "Here is the columns' description: \n",
      "\n",
      "<class 'pandas.core.frame.DataFrame'>\n",
      "RangeIndex: 237961 entries, 0 to 237960\n",
      "Data columns (total 34 columns):\n",
      " #   Column                     Non-Null Count   Dtype  \n",
      "---  ------                     --------------   -----  \n",
      " 0   YearStart                  237961 non-null  int64  \n",
      " 1   YearEnd                    237961 non-null  int64  \n",
      " 2   LocationAbbr               237961 non-null  object \n",
      " 3   LocationDesc               237961 non-null  object \n",
      " 4   DataSource                 237961 non-null  object \n",
      " 5   Topic                      237961 non-null  object \n",
      " 6   Question                   237961 non-null  object \n",
      " 7   Response                   0 non-null       float64\n",
      " 8   DataValueUnit              205218 non-null  object \n",
      " 9   DataValueTypeID            237961 non-null  object \n",
      " 10  DataValueType              237961 non-null  object \n",
      " 11  DataValue                  166505 non-null  object \n",
      " 12  DataValueAlt               165996 non-null  float64\n",
      " 13  DataValueFootnoteSymbol    72996 non-null   object \n",
      " 14  DatavalueFootnote          72996 non-null   object \n",
      " 15  LowConfidenceLimit         141388 non-null  float64\n",
      " 16  HighConfidenceLimit        141388 non-null  float64\n",
      " 17  StratificationCategory1    237961 non-null  object \n",
      " 18  Stratification1            237961 non-null  object \n",
      " 19  StratificationCategory2    0 non-null       float64\n",
      " 20  Stratification2            0 non-null       float64\n",
      " 21  StratificationCategory3    0 non-null       float64\n",
      " 22  Stratification3            0 non-null       float64\n",
      " 23  GeoLocation                236523 non-null  object \n",
      " 24  TopicID                    237961 non-null  object \n",
      " 25  QuestionID                 237961 non-null  object \n",
      " 26  ResponseID                 0 non-null       float64\n",
      " 27  LocationID                 237961 non-null  object \n",
      " 28  StratificationCategoryID1  237961 non-null  object \n",
      " 29  StratificationID1          237961 non-null  object \n",
      " 30  StratificationCategoryID2  0 non-null       float64\n",
      " 31  StratificationID2          0 non-null       float64\n",
      " 32  StratificationCategoryID3  0 non-null       float64\n",
      " 33  StratificationID3          0 non-null       float64\n",
      "dtypes: float64(13), int64(2), object(19)\n",
      "memory usage: 61.7+ MB\n"
     ]
    },
    {
     "data": {
      "text/plain": [
       "None"
      ]
     },
     "metadata": {},
     "output_type": "display_data"
    }
   ],
   "source": [
    "import pandas as pd\n",
    "\n",
    "# Importing data from data.world\n",
    "def dataIngest(url):\n",
    "    df = pd.read_csv(url,na_values=['', ' ', 'null', 'NaN'])\n",
    "    print(f\"Using the URL {url} to download the CSV file \\n \\n\")\n",
    "    return df\n",
    "\n",
    "# Remove the comment below to save this dataset on your PC\n",
    "#df.to_csv(insert path here in \"../folder/filename.csv\" format)\n",
    "\n",
    "\n",
    "# MAIN #\n",
    "input_url = \"https://query.data.world/s/cq2qqiqiurofdzr524tudy3ujjz6fu?dws=00000\" #input(\"Paste the source URL: \\n\")   #Receives URL input\n",
    "collected_data = dataIngest(input_url)         #Transforms into a pandas collected_data\n",
    "collected_data.to_csv(\"US_chronicDiseases_rawData.csv\")\n",
    "print(\"Here are the 5 first rows of your dataframe:\\n\")\n",
    "display(collected_data.head())                           #Prints the first 5 rows\n",
    "print(\"Here are the 5 last rows of your dataframe:\\n\")\n",
    "display(collected_data.tail())                           #Prints the last 5 rows\n",
    "\n",
    "\n",
    "#Running dataframe descriptions\n",
    "print(\"\\nHere is the statistical description of your dataframe: \\n\")\n",
    "display(collected_data.describe())\n",
    "print(\"\\nHere is the columns' description: \\n\")\n",
    "display(collected_data.info())"
   ]
  },
  {
   "cell_type": "markdown",
   "metadata": {},
   "source": [
    "After the initial steps, we notice that the algorithm returns that every column has 237,961 rows but not all of them are filled with actual data. We are going to use the command \".columns\" from the <b>Pandas</b> library to list the columns names and save this in a variable. This list will have the same index as the columns in the original CSV file. This is helpful because we can work around this data with the index instead of such long and complicated names that could lead to typing errors. Imagine how complicated it could get to type (or copy and paste) hundreds of columns in larger datasets...\n",
    "<br><br>\n",
    "The last step shows that 10 columns do not have any values attributed. After checking the columns descriptions, we decided to drop them since their absence do not impact on the dataset analysis. Also, the 'Topic' column (index [6]) was renamed to Disease for clarity of its data.\n",
    "<br><br>\n",
    "The new dataset has 24 columns. The identified Nan values will be dealt with in each step of the analysis so we don't alter the distribution unnecessarily. "
   ]
  },
  {
   "cell_type": "code",
   "execution_count": 3,
   "metadata": {
    "colab": {
     "base_uri": "https://localhost:8080/",
     "height": 1000
    },
    "executionInfo": {
     "elapsed": 7667,
     "status": "ok",
     "timestamp": 1719605189261,
     "user": {
      "displayName": "Igor Vieira",
      "userId": "11245460683209014961"
     },
     "user_tz": 180
    },
    "id": "nQrdmD3Kc73e",
    "outputId": "19096fe4-f456-4770-c610-63ef98c057b6"
   },
   "outputs": [
    {
     "name": "stdout",
     "output_type": "stream",
     "text": [
      "This is the dataset sum of null values per column before the clean-up\n"
     ]
    },
    {
     "data": {
      "text/plain": [
       "YearStart                         0\n",
       "YearEnd                           0\n",
       "LocationAbbr                      0\n",
       "LocationDesc                      0\n",
       "DataSource                        0\n",
       "Topic                             0\n",
       "Question                          0\n",
       "Response                     237961\n",
       "DataValueUnit                 32743\n",
       "DataValueTypeID                   0\n",
       "DataValueType                     0\n",
       "DataValue                     71456\n",
       "DataValueAlt                  71965\n",
       "DataValueFootnoteSymbol      164965\n",
       "DatavalueFootnote            164965\n",
       "LowConfidenceLimit            96573\n",
       "HighConfidenceLimit           96573\n",
       "StratificationCategory1           0\n",
       "Stratification1                   0\n",
       "StratificationCategory2      237961\n",
       "Stratification2              237961\n",
       "StratificationCategory3      237961\n",
       "Stratification3              237961\n",
       "GeoLocation                    1438\n",
       "TopicID                           0\n",
       "QuestionID                        0\n",
       "ResponseID                   237961\n",
       "LocationID                        0\n",
       "StratificationCategoryID1         0\n",
       "StratificationID1                 0\n",
       "StratificationCategoryID2    237961\n",
       "StratificationID2            237961\n",
       "StratificationCategoryID3    237961\n",
       "StratificationID3            237961\n",
       "dtype: int64"
      ]
     },
     "metadata": {},
     "output_type": "display_data"
    },
    {
     "name": "stdout",
     "output_type": "stream",
     "text": [
      "This is the dataset sum of null values AFTER the clean-up\n"
     ]
    },
    {
     "data": {
      "text/plain": [
       "YearStart                         0\n",
       "YearEnd                           0\n",
       "LocationAbbr                      0\n",
       "LocationDesc                      0\n",
       "DataSource                        0\n",
       "Disease                           0\n",
       "Question                          0\n",
       "DataValueUnit                 32743\n",
       "DataValueTypeID                   0\n",
       "DataValueType                     0\n",
       "DataValue                     71456\n",
       "DataValueAlt                  71965\n",
       "DataValueFootnoteSymbol      164965\n",
       "DatavalueFootnote            164965\n",
       "LowConfidenceLimit            96573\n",
       "HighConfidenceLimit           96573\n",
       "StratificationCategory1           0\n",
       "Stratification1                   0\n",
       "GeoLocation                    1438\n",
       "TopicID                           0\n",
       "QuestionID                        0\n",
       "LocationID                        0\n",
       "StratificationCategoryID1         0\n",
       "StratificationID1                 0\n",
       "dtype: int64"
      ]
     },
     "metadata": {},
     "output_type": "display_data"
    }
   ],
   "source": [
    "# Dataset clean-up\n",
    "columns_list = [collected_data.columns]                                     # Storing column names into a list\n",
    "\n",
    "#Searching for whole columns without data\n",
    "print('This is the dataset sum of null values per column before the clean-up')\n",
    "display(pd.isnull(collected_data).sum())                                    # Sum of null values by column of the dataframe\n",
    "\n",
    "# Removing whole columns with only null values or no useful information\n",
    "empty_columns = [7, 19, 20, 21, 22, 26, 30, 31, 32, 33]\n",
    "columns_to_drop = collected_data.columns[empty_columns]\n",
    "filtered_collected_data = collected_data.drop(columns=columns_to_drop, inplace=False)\n",
    "\n",
    "# Changing 'DataValueAlt' column datatype\n",
    "filtered_collected_data.DataValueAlt.astype(float)\n",
    "\n",
    "#Renaming column Topic to Disease for content clarity\n",
    "filtered_collected_data = filtered_collected_data.rename(columns={'Topic': 'Disease'})\n",
    "\n",
    "print('This is the dataset sum of null values AFTER the clean-up')\n",
    "display(pd.isnull(filtered_collected_data).sum())\n",
    "\n",
    "# Saving new dataset to csv file\n",
    "filtered_collected_data.to_csv(\"filtered_data_chronicDiseases.csv\", index=False)"
   ]
  },
  {
   "cell_type": "markdown",
   "metadata": {},
   "source": [
    "The categorical values present on the dataset were explanations for why there was no data collected on the research (e.g.: State had special policy for tax and licensing) and therefore no information was obtained.\n",
    "<br><br>\n",
    "Null values present on the dataset were filled with '0' in order to account for these values during the data analysis.\n",
    "<br><br>\n",
    "Now that the whole DataValueAlt column has only numerical values, we changed the datatype to float64 to enable mathematical transformations of the data. The filtered dataframe was saved into a separate CSV file named \"filtered_data_chronicDiseases.csv\"."
   ]
  },
  {
   "cell_type": "code",
   "execution_count": 4,
   "metadata": {},
   "outputs": [],
   "source": [
    "# Filtering categorical values in the DataValueAlt column and saving into a different CSV file\n",
    "categories = ['Category 3 - State had exclusive state alcohol retail licensing but with local zoning authority',\n",
    "'Category 4 - State had mixed alcohol retail licensing policies',\n",
    "'Category 2 - State had joint local and state alcohol retail licensing',\n",
    "'Category 6 - State had exclusive state alcohol retail licensing',\n",
    "'Category 1 - State had exclusive local alcohol retail licensing',\n",
    "'Category 2 - State had commercial host liability with major limitations',\n",
    "'Category 3 - State had no commercial host liability',\n",
    "'Category 5 - State had nearly exclusive state alcohol retail licensing',\n",
    "'Category 1 - State had commercial host liability with no major limitations','Yes','No']\n",
    "\n",
    "categorical = collected_data.loc[(collected_data.DataValue.isin(categories))]\n",
    "categorical.to_csv(\"categorical_datavalues.csv\", index=False)\n",
    "\n",
    "# Removing categorical values from dataframe. \n",
    "filtered_collected_data = filtered_collected_data.loc[~filtered_collected_data.DataValue.isin(categories)]"
   ]
  },
  {
   "cell_type": "markdown",
   "metadata": {},
   "source": [
    "After the clean-up, we run some double-check commands."
   ]
  },
  {
   "cell_type": "code",
   "execution_count": 5,
   "metadata": {},
   "outputs": [
    {
     "name": "stdout",
     "output_type": "stream",
     "text": [
      "This is the number of unique values in the 'DataValueAlt' column: 16782\n",
      "This is the number of categorical values in the 'DataValueAlt' column: 0\n",
      "The dataset has 0 duplicates.\n",
      "\n",
      "\n"
     ]
    }
   ],
   "source": [
    "#Prints the number of unique values in the DataValueAlt column\n",
    "print(f\"This is the number of unique values in the 'DataValueAlt' column: {filtered_collected_data.DataValueAlt.nunique()}\")\n",
    "\n",
    "# Checks for any categorical values and counts it (double checking)\n",
    "non_numeric_values = filtered_collected_data[~filtered_collected_data['DataValueAlt'].apply(lambda x: pd.to_numeric(x, errors='coerce')).notna()]\n",
    "cat_values = non_numeric_values['DataValueAlt'].nunique()\n",
    "print(f\"This is the number of categorical values in the 'DataValueAlt' column: {cat_values}\")\n",
    "\n",
    "#Verifiying the existence of duplicates\n",
    "duplicates = filtered_collected_data[filtered_collected_data.duplicated()]\n",
    "print(f\"The dataset has {duplicates.shape[0]} duplicates.\\n\\n\")"
   ]
  },
  {
   "cell_type": "markdown",
   "metadata": {},
   "source": [
    "There are only unique values in the DataValueAlt column and no categorical values or duplicates.\n",
    "<br><br>\n",
    "Now we go to the <u>fun</u> part!\n",
    "<br><br>\n",
    "Using the <b>MatPlotLib</b>, <b>Plotly</b> and <b>NumPy</b> libraries, we are going to evaluate the data distribution with a histogram and box plot for Alcohol consumption and Diabetes to extract some useful data."
   ]
  },
  {
   "cell_type": "code",
   "execution_count": 6,
   "metadata": {},
   "outputs": [
    {
     "data": {
      "image/png": "[encoded data removed]",
      "text/plain": [
       "<Figure size 1200x500 with 2 Axes>"
      ]
     },
     "metadata": {},
     "output_type": "display_data"
    },
    {
     "name": "stdout",
     "output_type": "stream",
     "text": [
      "Here is the description of the dataset for the column \"DataValueAlt\" for Binge drinking frequency among adults aged >= 18 years who binge drink:\n",
      "\n",
      "count    604.000000\n",
      "mean       4.211755\n",
      "std        0.758377\n",
      "min        2.500000\n",
      "25%        3.700000\n",
      "50%        4.200000\n",
      "75%        4.700000\n",
      "max        7.500000\n",
      "Name: DataValueAlt, dtype: float64\n",
      "\n",
      "The superior limit is 6.20.\n",
      " The inferior limit is 2.20.\n",
      " The Interquartile Range is 1.00.\n",
      "\n"
     ]
    },
    {
     "data": {
      "application/vnd.plotly.v1+json": {
       "config": {
        "plotlyServerURL": "https://plot.ly"
       },
       "data": [
        {
         "alignmentgroup": "True",
         "hovertemplate": "State=%{x}<br>Mean=%{y}<br>Year=%{marker.color}<extra></extra>",
         "legendgroup": "",
         "marker": {
          "color": [
           2012,
           2012,
           2012,
           2012,
           2012,
           2012,
           2012,
           2012,
           2012,
           2012,
           2012,
           2012,
           2012,
           2012,
           2012,
           2012,
           2012,
           2012,
           2012,
           2012,
           2012,
           2012,
           2012,
           2012,
           2012,
           2012,
           2012,
           2012,
           2012,
           2012,
           2012,
           2012,
           2012,
           2012,
           2012,
           2012,
           2012,
           2012,
           2012,
           2012,
           2012,
           2012,
           2012,
           2012,
           2012,
           2012,
           2012,
           2012,
           2012,
           2012,
           2012,
           2012,
           2012,
           2012,
           2012,
           2013,
           2013,
           2013,
           2013,
           2013,
           2013,
           2013,
           2013,
           2013,
           2013,
           2013,
           2013,
           2013,
           2013,
           2013,
           2013,
           2013,
           2013,
           2013,
           2013,
           2013,
           2013,
           2013,
           2013,
           2013,
           2013,
           2013,
           2013,
           2013,
           2013,
           2013,
           2013,
           2013,
           2013,
           2013,
           2013,
           2013,
           2013,
           2013,
           2013,
           2013,
           2013,
           2013,
           2013,
           2013,
           2013,
           2013,
           2013,
           2013,
           2013,
           2013,
           2013,
           2013,
           2013,
           2013,
           2014,
           2014,
           2014,
           2014,
           2014,
           2014,
           2014,
           2014,
           2014,
           2014,
           2014,
           2014,
           2014,
           2014,
           2014,
           2014,
           2014,
           2014,
           2014,
           2014,
           2014,
           2014,
           2014,
           2014,
           2014,
           2014,
           2014,
           2014,
           2014,
           2014,
           2014,
           2014,
           2014,
           2014,
           2014,
           2014,
           2014,
           2014,
           2014,
           2014,
           2014,
           2014,
           2014,
           2014,
           2014,
           2014,
           2014,
           2014,
           2014,
           2014,
           2014,
           2014,
           2014,
           2014,
           2014
          ],
          "coloraxis": "coloraxis",
          "pattern": {
           "shape": ""
          }
         },
         "name": "",
         "offsetgroup": "",
         "orientation": "v",
         "showlegend": false,
         "textposition": "auto",
         "type": "bar",
         "x": [
          "Alabama",
          "Alaska",
          "Arizona",
          "Arkansas",
          "California",
          "Colorado",
          "Connecticut",
          "Delaware",
          "District of Columbia",
          "Florida",
          "Georgia",
          "Guam",
          "Hawaii",
          "Idaho",
          "Illinois",
          "Indiana",
          "Iowa",
          "Kansas",
          "Kentucky",
          "Louisiana",
          "Maine",
          "Maryland",
          "Massachusetts",
          "Michigan",
          "Minnesota",
          "Mississippi",
          "Missouri",
          "Montana",
          "Nebraska",
          "Nevada",
          "New Hampshire",
          "New Jersey",
          "New Mexico",
          "New York",
          "North Carolina",
          "North Dakota",
          "Ohio",
          "Oklahoma",
          "Oregon",
          "Pennsylvania",
          "Puerto Rico",
          "Rhode Island",
          "South Carolina",
          "South Dakota",
          "Tennessee",
          "Texas",
          "United States",
          "Utah",
          "Vermont",
          "Virgin Islands",
          "Virginia",
          "Washington",
          "West Virginia",
          "Wisconsin",
          "Wyoming",
          "Alabama",
          "Alaska",
          "Arizona",
          "Arkansas",
          "California",
          "Colorado",
          "Connecticut",
          "Delaware",
          "District of Columbia",
          "Florida",
          "Georgia",
          "Guam",
          "Hawaii",
          "Idaho",
          "Illinois",
          "Indiana",
          "Iowa",
          "Kansas",
          "Kentucky",
          "Louisiana",
          "Maine",
          "Maryland",
          "Massachusetts",
          "Michigan",
          "Minnesota",
          "Mississippi",
          "Missouri",
          "Montana",
          "Nebraska",
          "Nevada",
          "New Hampshire",
          "New Jersey",
          "New Mexico",
          "New York",
          "North Carolina",
          "North Dakota",
          "Ohio",
          "Oklahoma",
          "Oregon",
          "Pennsylvania",
          "Puerto Rico",
          "Rhode Island",
          "South Carolina",
          "South Dakota",
          "Tennessee",
          "Texas",
          "United States",
          "Utah",
          "Vermont",
          "Virgin Islands",
          "Virginia",
          "Washington",
          "West Virginia",
          "Wisconsin",
          "Wyoming",
          "Alabama",
          "Alaska",
          "Arizona",
          "Arkansas",
          "California",
          "Colorado",
          "Connecticut",
          "Delaware",
          "District of Columbia",
          "Florida",
          "Georgia",
          "Guam",
          "Hawaii",
          "Idaho",
          "Illinois",
          "Indiana",
          "Iowa",
          "Kansas",
          "Kentucky",
          "Louisiana",
          "Maine",
          "Maryland",
          "Massachusetts",
          "Michigan",
          "Minnesota",
          "Mississippi",
          "Missouri",
          "Montana",
          "Nebraska",
          "Nevada",
          "New Hampshire",
          "New Jersey",
          "New Mexico",
          "New York",
          "North Carolina",
          "North Dakota",
          "Ohio",
          "Oklahoma",
          "Oregon",
          "Pennsylvania",
          "Puerto Rico",
          "Rhode Island",
          "South Carolina",
          "South Dakota",
          "Tennessee",
          "Texas",
          "United States",
          "Utah",
          "Vermont",
          "Virgin Islands",
          "Virginia",
          "Washington",
          "West Virginia",
          "Wisconsin",
          "Wyoming"
         ],
         "xaxis": "x",
         "y": [
          4.6,
          3.9,
          3.7,
          4.9,
          3.6,
          3.8,
          4,
          4.4,
          3.8,
          4.9,
          4.4,
          4.1,
          5.1,
          4.4,
          4.1,
          4.3,
          3.9,
          4.7,
          5.3,
          5,
          4.2,
          4.1,
          4.4,
          4.3,
          3.6,
          4.8,
          4.4,
          4.5,
          4.2,
          4.6,
          4.5,
          3.5,
          4.3,
          3.6,
          4.4,
          3.9,
          4.3,
          4.6,
          4.4,
          4.2,
          4,
          4,
          4.6,
          4,
          4.3,
          4.6,
          4.2,
          3.9,
          3.9,
          null,
          4,
          4.2,
          5.2,
          4.1,
          4.7,
          3.8600000000000003,
          4.14,
          5.275,
          5.0600000000000005,
          3.75,
          4.24,
          4.1000000000000005,
          3.54,
          4,
          4.571428571428571,
          4.54,
          4.675,
          4.785714285714286,
          4.45,
          4.12,
          4.45,
          4.325,
          4.085714285714286,
          5.08,
          4.66,
          4.275,
          4.14,
          4.114285714285715,
          4.271428571428571,
          3.8333333333333335,
          5.14,
          4.05,
          3.9,
          3.9,
          4.8,
          4.125,
          3.4,
          4.25,
          3.6,
          4.033333333333333,
          3.7399999999999998,
          4.2,
          4.45,
          4.45,
          4.616666666666666,
          3.9,
          4.38,
          4.36,
          3.9,
          3.275,
          4.55,
          4.2,
          4.4,
          4.25,
          null,
          3.9800000000000004,
          4.1499999999999995,
          5.175,
          4.2,
          4.775,
          4.24,
          5.2,
          4.116666666666666,
          4.119999999999999,
          3.75,
          3.7,
          3.5,
          4.2,
          3.6399999999999997,
          4.3500000000000005,
          4.38,
          5.6,
          4.742857142857143,
          3.85,
          3.966666666666667,
          4.5,
          4.125,
          3.72,
          5.25,
          3.94,
          4.35,
          3.5833333333333335,
          4.066666666666666,
          4.659999999999999,
          3.75,
          3.88,
          4.38,
          4.26,
          3.8200000000000003,
          4.34,
          3.925,
          3.6999999999999997,
          4.75,
          3.3666666666666667,
          3.466666666666667,
          3.94,
          4.62,
          4.071428571428571,
          4.275,
          3.96,
          3.875,
          3.8200000000000003,
          4.42,
          3.7600000000000002,
          5.075,
          4.183333333333334,
          4.1000000000000005,
          4.38,
          4.525,
          null,
          4.0600000000000005,
          3.88,
          5.1,
          4.025,
          3.85
         ],
         "yaxis": "y"
        }
       ],
       "layout": {
        "barmode": "group",
        "coloraxis": {
         "colorbar": {
          "title": {
           "text": "Year"
          }
         },
         "colorscale": [
          [
           0,
           "#0d0887"
          ],
          [
           0.1111111111111111,
           "#46039f"
          ],
          [
           0.2222222222222222,
           "#7201a8"
          ],
          [
           0.3333333333333333,
           "#9c179e"
          ],
          [
           0.4444444444444444,
           "#bd3786"
          ],
          [
           0.5555555555555556,
           "#d8576b"
          ],
          [
           0.6666666666666666,
           "#ed7953"
          ],
          [
           0.7777777777777778,
           "#fb9f3a"
          ],
          [
           0.8888888888888888,
           "#fdca26"
          ],
          [
           1,
           "#f0f921"
          ]
         ]
        },
        "legend": {
         "title": {
          "text": "Year"
         },
         "tracegroupgap": 0
        },
        "template": {
         "data": {
          "bar": [
           {
            "error_x": {
             "color": "#2a3f5f"
            },
            "error_y": {
             "color": "#2a3f5f"
            },
            "marker": {
             "line": {
              "color": "white",
              "width": 0.5
             },
             "pattern": {
              "fillmode": "overlay",
              "size": 10,
              "solidity": 0.2
             }
            },
            "type": "bar"
           }
          ],
          "barpolar": [
           {
            "marker": {
             "line": {
              "color": "white",
              "width": 0.5
             },
             "pattern": {
              "fillmode": "overlay",
              "size": 10,
              "solidity": 0.2
             }
            },
            "type": "barpolar"
           }
          ],
          "carpet": [
           {
            "aaxis": {
             "endlinecolor": "#2a3f5f",
             "gridcolor": "#C8D4E3",
             "linecolor": "#C8D4E3",
             "minorgridcolor": "#C8D4E3",
             "startlinecolor": "#2a3f5f"
            },
            "baxis": {
             "endlinecolor": "#2a3f5f",
             "gridcolor": "#C8D4E3",
             "linecolor": "#C8D4E3",
             "minorgridcolor": "#C8D4E3",
             "startlinecolor": "#2a3f5f"
            },
            "type": "carpet"
           }
          ],
          "choropleth": [
           {
            "colorbar": {
             "outlinewidth": 0,
             "ticks": ""
            },
            "type": "choropleth"
           }
          ],
          "contour": [
           {
            "colorbar": {
             "outlinewidth": 0,
             "ticks": ""
            },
            "colorscale": [
             [
              0,
              "#0d0887"
             ],
             [
              0.1111111111111111,
              "#46039f"
             ],
             [
              0.2222222222222222,
              "#7201a8"
             ],
             [
              0.3333333333333333,
              "#9c179e"
             ],
             [
              0.4444444444444444,
              "#bd3786"
             ],
             [
              0.5555555555555556,
              "#d8576b"
             ],
             [
              0.6666666666666666,
              "#ed7953"
             ],
             [
              0.7777777777777778,
              "#fb9f3a"
             ],
             [
              0.8888888888888888,
              "#fdca26"
             ],
             [
              1,
              "#f0f921"
             ]
            ],
            "type": "contour"
           }
          ],
          "contourcarpet": [
           {
            "colorbar": {
             "outlinewidth": 0,
             "ticks": ""
            },
            "type": "contourcarpet"
           }
          ],
          "heatmap": [
           {
            "colorbar": {
             "outlinewidth": 0,
             "ticks": ""
            },
            "colorscale": [
             [
              0,
              "#0d0887"
             ],
             [
              0.1111111111111111,
              "#46039f"
             ],
             [
              0.2222222222222222,
              "#7201a8"
             ],
             [
              0.3333333333333333,
              "#9c179e"
             ],
             [
              0.4444444444444444,
              "#bd3786"
             ],
             [
              0.5555555555555556,
              "#d8576b"
             ],
             [
              0.6666666666666666,
              "#ed7953"
             ],
             [
              0.7777777777777778,
              "#fb9f3a"
             ],
             [
              0.8888888888888888,
              "#fdca26"
             ],
             [
              1,
              "#f0f921"
             ]
            ],
            "type": "heatmap"
           }
          ],
          "heatmapgl": [
           {
            "colorbar": {
             "outlinewidth": 0,
             "ticks": ""
            },
            "colorscale": [
             [
              0,
              "#0d0887"
             ],
             [
              0.1111111111111111,
              "#46039f"
             ],
             [
              0.2222222222222222,
              "#7201a8"
             ],
             [
              0.3333333333333333,
              "#9c179e"
             ],
             [
              0.4444444444444444,
              "#bd3786"
             ],
             [
              0.5555555555555556,
              "#d8576b"
             ],
             [
              0.6666666666666666,
              "#ed7953"
             ],
             [
              0.7777777777777778,
              "#fb9f3a"
             ],
             [
              0.8888888888888888,
              "#fdca26"
             ],
             [
              1,
              "#f0f921"
             ]
            ],
            "type": "heatmapgl"
           }
          ],
          "histogram": [
           {
            "marker": {
             "pattern": {
              "fillmode": "overlay",
              "size": 10,
              "solidity": 0.2
             }
            },
            "type": "histogram"
           }
          ],
          "histogram2d": [
           {
            "colorbar": {
             "outlinewidth": 0,
             "ticks": ""
            },
            "colorscale": [
             [
              0,
              "#0d0887"
             ],
             [
              0.1111111111111111,
              "#46039f"
             ],
             [
              0.2222222222222222,
              "#7201a8"
             ],
             [
              0.3333333333333333,
              "#9c179e"
             ],
             [
              0.4444444444444444,
              "#bd3786"
             ],
             [
              0.5555555555555556,
              "#d8576b"
             ],
             [
              0.6666666666666666,
              "#ed7953"
             ],
             [
              0.7777777777777778,
              "#fb9f3a"
             ],
             [
              0.8888888888888888,
              "#fdca26"
             ],
             [
              1,
              "#f0f921"
             ]
            ],
            "type": "histogram2d"
           }
          ],
          "histogram2dcontour": [
           {
            "colorbar": {
             "outlinewidth": 0,
             "ticks": ""
            },
            "colorscale": [
             [
              0,
              "#0d0887"
             ],
             [
              0.1111111111111111,
              "#46039f"
             ],
             [
              0.2222222222222222,
              "#7201a8"
             ],
             [
              0.3333333333333333,
              "#9c179e"
             ],
             [
              0.4444444444444444,
              "#bd3786"
             ],
             [
              0.5555555555555556,
              "#d8576b"
             ],
             [
              0.6666666666666666,
              "#ed7953"
             ],
             [
              0.7777777777777778,
              "#fb9f3a"
             ],
             [
              0.8888888888888888,
              "#fdca26"
             ],
             [
              1,
              "#f0f921"
             ]
            ],
            "type": "histogram2dcontour"
           }
          ],
          "mesh3d": [
           {
            "colorbar": {
             "outlinewidth": 0,
             "ticks": ""
            },
            "type": "mesh3d"
           }
          ],
          "parcoords": [
           {
            "line": {
             "colorbar": {
              "outlinewidth": 0,
              "ticks": ""
             }
            },
            "type": "parcoords"
           }
          ],
          "pie": [
           {
            "automargin": true,
            "type": "pie"
           }
          ],
          "scatter": [
           {
            "fillpattern": {
             "fillmode": "overlay",
             "size": 10,
             "solidity": 0.2
            },
            "type": "scatter"
           }
          ],
          "scatter3d": [
           {
            "line": {
             "colorbar": {
              "outlinewidth": 0,
              "ticks": ""
             }
            },
            "marker": {
             "colorbar": {
              "outlinewidth": 0,
              "ticks": ""
             }
            },
            "type": "scatter3d"
           }
          ],
          "scattercarpet": [
           {
            "marker": {
             "colorbar": {
              "outlinewidth": 0,
              "ticks": ""
             }
            },
            "type": "scattercarpet"
           }
          ],
          "scattergeo": [
           {
            "marker": {
             "colorbar": {
              "outlinewidth": 0,
              "ticks": ""
             }
            },
            "type": "scattergeo"
           }
          ],
          "scattergl": [
           {
            "marker": {
             "colorbar": {
              "outlinewidth": 0,
              "ticks": ""
             }
            },
            "type": "scattergl"
           }
          ],
          "scattermapbox": [
           {
            "marker": {
             "colorbar": {
              "outlinewidth": 0,
              "ticks": ""
             }
            },
            "type": "scattermapbox"
           }
          ],
          "scatterpolar": [
           {
            "marker": {
             "colorbar": {
              "outlinewidth": 0,
              "ticks": ""
             }
            },
            "type": "scatterpolar"
           }
          ],
          "scatterpolargl": [
           {
            "marker": {
             "colorbar": {
              "outlinewidth": 0,
              "ticks": ""
             }
            },
            "type": "scatterpolargl"
           }
          ],
          "scatterternary": [
           {
            "marker": {
             "colorbar": {
              "outlinewidth": 0,
              "ticks": ""
             }
            },
            "type": "scatterternary"
           }
          ],
          "surface": [
           {
            "colorbar": {
             "outlinewidth": 0,
             "ticks": ""
            },
            "colorscale": [
             [
              0,
              "#0d0887"
             ],
             [
              0.1111111111111111,
              "#46039f"
             ],
             [
              0.2222222222222222,
              "#7201a8"
             ],
             [
              0.3333333333333333,
              "#9c179e"
             ],
             [
              0.4444444444444444,
              "#bd3786"
             ],
             [
              0.5555555555555556,
              "#d8576b"
             ],
             [
              0.6666666666666666,
              "#ed7953"
             ],
             [
              0.7777777777777778,
              "#fb9f3a"
             ],
             [
              0.8888888888888888,
              "#fdca26"
             ],
             [
              1,
              "#f0f921"
             ]
            ],
            "type": "surface"
           }
          ],
          "table": [
           {
            "cells": {
             "fill": {
              "color": "#EBF0F8"
             },
             "line": {
              "color": "white"
             }
            },
            "header": {
             "fill": {
              "color": "#C8D4E3"
             },
             "line": {
              "color": "white"
             }
            },
            "type": "table"
           }
          ]
         },
         "layout": {
          "annotationdefaults": {
           "arrowcolor": "#2a3f5f",
           "arrowhead": 0,
           "arrowwidth": 1
          },
          "autotypenumbers": "strict",
          "coloraxis": {
           "colorbar": {
            "outlinewidth": 0,
            "ticks": ""
           }
          },
          "colorscale": {
           "diverging": [
            [
             0,
             "#8e0152"
            ],
            [
             0.1,
             "#c51b7d"
            ],
            [
             0.2,
             "#de77ae"
            ],
            [
             0.3,
             "#f1b6da"
            ],
            [
             0.4,
             "#fde0ef"
            ],
            [
             0.5,
             "#f7f7f7"
            ],
            [
             0.6,
             "#e6f5d0"
            ],
            [
             0.7,
             "#b8e186"
            ],
            [
             0.8,
             "#7fbc41"
            ],
            [
             0.9,
             "#4d9221"
            ],
            [
             1,
             "#276419"
            ]
           ],
           "sequential": [
            [
             0,
             "#0d0887"
            ],
            [
             0.1111111111111111,
             "#46039f"
            ],
            [
             0.2222222222222222,
             "#7201a8"
            ],
            [
             0.3333333333333333,
             "#9c179e"
            ],
            [
             0.4444444444444444,
             "#bd3786"
            ],
            [
             0.5555555555555556,
             "#d8576b"
            ],
            [
             0.6666666666666666,
             "#ed7953"
            ],
            [
             0.7777777777777778,
             "#fb9f3a"
            ],
            [
             0.8888888888888888,
             "#fdca26"
            ],
            [
             1,
             "#f0f921"
            ]
           ],
           "sequentialminus": [
            [
             0,
             "#0d0887"
            ],
            [
             0.1111111111111111,
             "#46039f"
            ],
            [
             0.2222222222222222,
             "#7201a8"
            ],
            [
             0.3333333333333333,
             "#9c179e"
            ],
            [
             0.4444444444444444,
             "#bd3786"
            ],
            [
             0.5555555555555556,
             "#d8576b"
            ],
            [
             0.6666666666666666,
             "#ed7953"
            ],
            [
             0.7777777777777778,
             "#fb9f3a"
            ],
            [
             0.8888888888888888,
             "#fdca26"
            ],
            [
             1,
             "#f0f921"
            ]
           ]
          },
          "colorway": [
           "#636efa",
           "#EF553B",
           "#00cc96",
           "#ab63fa",
           "#FFA15A",
           "#19d3f3",
           "#FF6692",
           "#B6E880",
           "#FF97FF",
           "#FECB52"
          ],
          "font": {
           "color": "#2a3f5f"
          },
          "geo": {
           "bgcolor": "white",
           "lakecolor": "white",
           "landcolor": "white",
           "showlakes": true,
           "showland": true,
           "subunitcolor": "#C8D4E3"
          },
          "hoverlabel": {
           "align": "left"
          },
          "hovermode": "closest",
          "mapbox": {
           "style": "light"
          },
          "paper_bgcolor": "white",
          "plot_bgcolor": "white",
          "polar": {
           "angularaxis": {
            "gridcolor": "#EBF0F8",
            "linecolor": "#EBF0F8",
            "ticks": ""
           },
           "bgcolor": "white",
           "radialaxis": {
            "gridcolor": "#EBF0F8",
            "linecolor": "#EBF0F8",
            "ticks": ""
           }
          },
          "scene": {
           "xaxis": {
            "backgroundcolor": "white",
            "gridcolor": "#DFE8F3",
            "gridwidth": 2,
            "linecolor": "#EBF0F8",
            "showbackground": true,
            "ticks": "",
            "zerolinecolor": "#EBF0F8"
           },
           "yaxis": {
            "backgroundcolor": "white",
            "gridcolor": "#DFE8F3",
            "gridwidth": 2,
            "linecolor": "#EBF0F8",
            "showbackground": true,
            "ticks": "",
            "zerolinecolor": "#EBF0F8"
           },
           "zaxis": {
            "backgroundcolor": "white",
            "gridcolor": "#DFE8F3",
            "gridwidth": 2,
            "linecolor": "#EBF0F8",
            "showbackground": true,
            "ticks": "",
            "zerolinecolor": "#EBF0F8"
           }
          },
          "shapedefaults": {
           "line": {
            "color": "#2a3f5f"
           }
          },
          "ternary": {
           "aaxis": {
            "gridcolor": "#DFE8F3",
            "linecolor": "#A2B1C6",
            "ticks": ""
           },
           "baxis": {
            "gridcolor": "#DFE8F3",
            "linecolor": "#A2B1C6",
            "ticks": ""
           },
           "bgcolor": "white",
           "caxis": {
            "gridcolor": "#DFE8F3",
            "linecolor": "#A2B1C6",
            "ticks": ""
           }
          },
          "title": {
           "x": 0.05
          },
          "xaxis": {
           "automargin": true,
           "gridcolor": "#EBF0F8",
           "linecolor": "#EBF0F8",
           "ticks": "",
           "title": {
            "standoff": 15
           },
           "zerolinecolor": "#EBF0F8",
           "zerolinewidth": 2
          },
          "yaxis": {
           "automargin": true,
           "gridcolor": "#EBF0F8",
           "linecolor": "#EBF0F8",
           "ticks": "",
           "title": {
            "standoff": 15
           },
           "zerolinecolor": "#EBF0F8",
           "zerolinewidth": 2
          }
         }
        },
        "title": {
         "text": "Mean Value number of Alcohol consumption cases for Binge drinking frequency among adults aged >= 18 years who binge drink",
         "x": 0.5
        },
        "xaxis": {
         "anchor": "y",
         "domain": [
          0,
          1
         ],
         "title": {
          "text": "State"
         }
        },
        "yaxis": {
         "anchor": "x",
         "domain": [
          0,
          1
         ],
         "title": {
          "text": "Mean"
         }
        }
       }
      }
     },
     "metadata": {},
     "output_type": "display_data"
    },
    {
     "name": "stdout",
     "output_type": "stream",
     "text": [
      "\n"
     ]
    },
    {
     "data": {
      "image/png": "[encoded data removed]",
      "text/plain": [
       "<Figure size 1200x500 with 2 Axes>"
      ]
     },
     "metadata": {},
     "output_type": "display_data"
    },
    {
     "name": "stdout",
     "output_type": "stream",
     "text": [
      "Here is the description of the dataset for the column \"DataValueAlt\" for Binge drinking intensity among adults aged >= 18 years who binge drink:\n",
      "\n",
      "count    599.000000\n",
      "mean       7.497329\n",
      "std        1.202280\n",
      "min        4.800000\n",
      "25%        6.800000\n",
      "50%        7.600000\n",
      "75%        8.200000\n",
      "max       12.600000\n",
      "Name: DataValueAlt, dtype: float64\n",
      "\n",
      "The superior limit is 10.30.\n",
      " The inferior limit is 4.70.\n",
      " The Interquartile Range is 1.40.\n",
      "\n"
     ]
    },
    {
     "data": {
      "application/vnd.plotly.v1+json": {
       "config": {
        "plotlyServerURL": "https://plot.ly"
       },
       "data": [
        {
         "alignmentgroup": "True",
         "hovertemplate": "State=%{x}<br>Mean=%{y}<br>Year=%{marker.color}<extra></extra>",
         "legendgroup": "",
         "marker": {
          "color": [
           2012,
           2012,
           2012,
           2012,
           2012,
           2012,
           2012,
           2012,
           2012,
           2012,
           2012,
           2012,
           2012,
           2012,
           2012,
           2012,
           2012,
           2012,
           2012,
           2012,
           2012,
           2012,
           2012,
           2012,
           2012,
           2012,
           2012,
           2012,
           2012,
           2012,
           2012,
           2012,
           2012,
           2012,
           2012,
           2012,
           2012,
           2012,
           2012,
           2012,
           2012,
           2012,
           2012,
           2012,
           2012,
           2012,
           2012,
           2012,
           2012,
           2012,
           2012,
           2012,
           2012,
           2012,
           2012,
           2013,
           2013,
           2013,
           2013,
           2013,
           2013,
           2013,
           2013,
           2013,
           2013,
           2013,
           2013,
           2013,
           2013,
           2013,
           2013,
           2013,
           2013,
           2013,
           2013,
           2013,
           2013,
           2013,
           2013,
           2013,
           2013,
           2013,
           2013,
           2013,
           2013,
           2013,
           2013,
           2013,
           2013,
           2013,
           2013,
           2013,
           2013,
           2013,
           2013,
           2013,
           2013,
           2013,
           2013,
           2013,
           2013,
           2013,
           2013,
           2013,
           2013,
           2013,
           2013,
           2013,
           2013,
           2013,
           2014,
           2014,
           2014,
           2014,
           2014,
           2014,
           2014,
           2014,
           2014,
           2014,
           2014,
           2014,
           2014,
           2014,
           2014,
           2014,
           2014,
           2014,
           2014,
           2014,
           2014,
           2014,
           2014,
           2014,
           2014,
           2014,
           2014,
           2014,
           2014,
           2014,
           2014,
           2014,
           2014,
           2014,
           2014,
           2014,
           2014,
           2014,
           2014,
           2014,
           2014,
           2014,
           2014,
           2014,
           2014,
           2014,
           2014,
           2014,
           2014,
           2014,
           2014,
           2014,
           2014,
           2014,
           2014
          ],
          "coloraxis": "coloraxis",
          "pattern": {
           "shape": ""
          }
         },
         "name": "",
         "offsetgroup": "",
         "orientation": "v",
         "showlegend": false,
         "textposition": "auto",
         "type": "bar",
         "x": [
          "Alabama",
          "Alaska",
          "Arizona",
          "Arkansas",
          "California",
          "Colorado",
          "Connecticut",
          "Delaware",
          "District of Columbia",
          "Florida",
          "Georgia",
          "Guam",
          "Hawaii",
          "Idaho",
          "Illinois",
          "Indiana",
          "Iowa",
          "Kansas",
          "Kentucky",
          "Louisiana",
          "Maine",
          "Maryland",
          "Massachusetts",
          "Michigan",
          "Minnesota",
          "Mississippi",
          "Missouri",
          "Montana",
          "Nebraska",
          "Nevada",
          "New Hampshire",
          "New Jersey",
          "New Mexico",
          "New York",
          "North Carolina",
          "North Dakota",
          "Ohio",
          "Oklahoma",
          "Oregon",
          "Pennsylvania",
          "Puerto Rico",
          "Rhode Island",
          "South Carolina",
          "South Dakota",
          "Tennessee",
          "Texas",
          "United States",
          "Utah",
          "Vermont",
          "Virgin Islands",
          "Virginia",
          "Washington",
          "West Virginia",
          "Wisconsin",
          "Wyoming",
          "Alabama",
          "Alaska",
          "Arizona",
          "Arkansas",
          "California",
          "Colorado",
          "Connecticut",
          "Delaware",
          "District of Columbia",
          "Florida",
          "Georgia",
          "Guam",
          "Hawaii",
          "Idaho",
          "Illinois",
          "Indiana",
          "Iowa",
          "Kansas",
          "Kentucky",
          "Louisiana",
          "Maine",
          "Maryland",
          "Massachusetts",
          "Michigan",
          "Minnesota",
          "Mississippi",
          "Missouri",
          "Montana",
          "Nebraska",
          "Nevada",
          "New Hampshire",
          "New Jersey",
          "New Mexico",
          "New York",
          "North Carolina",
          "North Dakota",
          "Ohio",
          "Oklahoma",
          "Oregon",
          "Pennsylvania",
          "Puerto Rico",
          "Rhode Island",
          "South Carolina",
          "South Dakota",
          "Tennessee",
          "Texas",
          "United States",
          "Utah",
          "Vermont",
          "Virgin Islands",
          "Virginia",
          "Washington",
          "West Virginia",
          "Wisconsin",
          "Wyoming",
          "Alabama",
          "Alaska",
          "Arizona",
          "Arkansas",
          "California",
          "Colorado",
          "Connecticut",
          "Delaware",
          "District of Columbia",
          "Florida",
          "Georgia",
          "Guam",
          "Hawaii",
          "Idaho",
          "Illinois",
          "Indiana",
          "Iowa",
          "Kansas",
          "Kentucky",
          "Louisiana",
          "Maine",
          "Maryland",
          "Massachusetts",
          "Michigan",
          "Minnesota",
          "Mississippi",
          "Missouri",
          "Montana",
          "Nebraska",
          "Nevada",
          "New Hampshire",
          "New Jersey",
          "New Mexico",
          "New York",
          "North Carolina",
          "North Dakota",
          "Ohio",
          "Oklahoma",
          "Oregon",
          "Pennsylvania",
          "Puerto Rico",
          "Rhode Island",
          "South Carolina",
          "South Dakota",
          "Tennessee",
          "Texas",
          "United States",
          "Utah",
          "Vermont",
          "Virgin Islands",
          "Virginia",
          "Washington",
          "West Virginia",
          "Wisconsin",
          "Wyoming"
         ],
         "xaxis": "x",
         "y": [
          7.6,
          7.9,
          7.2,
          7.8,
          7,
          7.2,
          7.1,
          7.4,
          6.6,
          7,
          7.4,
          9.6,
          8.7,
          7.2,
          8.3,
          8,
          8.1,
          7.7,
          8.9,
          7.6,
          7.6,
          7,
          7.5,
          7.3,
          7.7,
          7.6,
          7.7,
          7.7,
          8,
          7.3,
          7.6,
          6.8,
          7.9,
          7.1,
          7.6,
          8.1,
          8.1,
          7.8,
          7.2,
          7.5,
          7.6,
          7,
          7.7,
          7.7,
          6.5,
          7.6,
          7.5,
          7.8,
          7.2,
          null,
          7.7,
          7.1,
          8.6,
          8.7,
          8,
          6.859999999999999,
          7.640000000000001,
          8.36,
          9.34,
          6.95,
          7.26,
          7.1,
          7.58,
          6.5,
          7.3125,
          7.340000000000001,
          8.225,
          8.471428571428572,
          7.375,
          7.56,
          7.716666666666668,
          7.925,
          7.566666666666667,
          7.640000000000001,
          7.62,
          7.15,
          6.94,
          7.5,
          6.916666666666667,
          7.371428571428571,
          7.659999999999999,
          7.75,
          7.959999999999999,
          7.6,
          7.26,
          6.4,
          7.057142857142857,
          7.733333333333333,
          6.716666666666666,
          7.25,
          7.9,
          7.659999999999999,
          8.983333333333333,
          7.175,
          7.883333333333333,
          7.8,
          7.140000000000001,
          7.12,
          8.22,
          6.775,
          7.8,
          7.366666666666666,
          8.059999999999999,
          7.2250000000000005,
          null,
          7.32,
          6.8,
          9.15,
          7.625,
          8.2,
          7.2,
          8.18,
          7.05,
          7.359999999999999,
          7.1000000000000005,
          6.9799999999999995,
          6.640000000000001,
          6.8999999999999995,
          6.44,
          7,
          7.56,
          8.84,
          7.814285714285715,
          7.25,
          7.883333333333333,
          7.55,
          7.725,
          7.4799999999999995,
          9.28,
          7.220000000000001,
          7.275,
          7.140000000000001,
          6.516666666666667,
          7.24,
          7.400000000000001,
          7.4399999999999995,
          7.540000000000001,
          7.659999999999999,
          7.68,
          6.82,
          7.275,
          6.8999999999999995,
          7.75,
          6.566666666666666,
          7.666666666666667,
          8.08,
          7.779999999999999,
          7.966666666666666,
          6.45,
          7.44,
          7.7,
          7,
          7.220000000000001,
          7.88,
          7.15,
          7.466666666666666,
          7.3,
          7.88,
          7.35,
          null,
          7.38,
          7,
          8.575,
          7.275,
          7.525
         ],
         "yaxis": "y"
        }
       ],
       "layout": {
        "barmode": "group",
        "coloraxis": {
         "colorbar": {
          "title": {
           "text": "Year"
          }
         },
         "colorscale": [
          [
           0,
           "#0d0887"
          ],
          [
           0.1111111111111111,
           "#46039f"
          ],
          [
           0.2222222222222222,
           "#7201a8"
          ],
          [
           0.3333333333333333,
           "#9c179e"
          ],
          [
           0.4444444444444444,
           "#bd3786"
          ],
          [
           0.5555555555555556,
           "#d8576b"
          ],
          [
           0.6666666666666666,
           "#ed7953"
          ],
          [
           0.7777777777777778,
           "#fb9f3a"
          ],
          [
           0.8888888888888888,
           "#fdca26"
          ],
          [
           1,
           "#f0f921"
          ]
         ]
        },
        "legend": {
         "title": {
          "text": "Year"
         },
         "tracegroupgap": 0
        },
        "template": {
         "data": {
          "bar": [
           {
            "error_x": {
             "color": "#2a3f5f"
            },
            "error_y": {
             "color": "#2a3f5f"
            },
            "marker": {
             "line": {
              "color": "white",
              "width": 0.5
             },
             "pattern": {
              "fillmode": "overlay",
              "size": 10,
              "solidity": 0.2
             }
            },
            "type": "bar"
           }
          ],
          "barpolar": [
           {
            "marker": {
             "line": {
              "color": "white",
              "width": 0.5
             },
             "pattern": {
              "fillmode": "overlay",
              "size": 10,
              "solidity": 0.2
             }
            },
            "type": "barpolar"
           }
          ],
          "carpet": [
           {
            "aaxis": {
             "endlinecolor": "#2a3f5f",
             "gridcolor": "#C8D4E3",
             "linecolor": "#C8D4E3",
             "minorgridcolor": "#C8D4E3",
             "startlinecolor": "#2a3f5f"
            },
            "baxis": {
             "endlinecolor": "#2a3f5f",
             "gridcolor": "#C8D4E3",
             "linecolor": "#C8D4E3",
             "minorgridcolor": "#C8D4E3",
             "startlinecolor": "#2a3f5f"
            },
            "type": "carpet"
           }
          ],
          "choropleth": [
           {
            "colorbar": {
             "outlinewidth": 0,
             "ticks": ""
            },
            "type": "choropleth"
           }
          ],
          "contour": [
           {
            "colorbar": {
             "outlinewidth": 0,
             "ticks": ""
            },
            "colorscale": [
             [
              0,
              "#0d0887"
             ],
             [
              0.1111111111111111,
              "#46039f"
             ],
             [
              0.2222222222222222,
              "#7201a8"
             ],
             [
              0.3333333333333333,
              "#9c179e"
             ],
             [
              0.4444444444444444,
              "#bd3786"
             ],
             [
              0.5555555555555556,
              "#d8576b"
             ],
             [
              0.6666666666666666,
              "#ed7953"
             ],
             [
              0.7777777777777778,
              "#fb9f3a"
             ],
             [
              0.8888888888888888,
              "#fdca26"
             ],
             [
              1,
              "#f0f921"
             ]
            ],
            "type": "contour"
           }
          ],
          "contourcarpet": [
           {
            "colorbar": {
             "outlinewidth": 0,
             "ticks": ""
            },
            "type": "contourcarpet"
           }
          ],
          "heatmap": [
           {
            "colorbar": {
             "outlinewidth": 0,
             "ticks": ""
            },
            "colorscale": [
             [
              0,
              "#0d0887"
             ],
             [
              0.1111111111111111,
              "#46039f"
             ],
             [
              0.2222222222222222,
              "#7201a8"
             ],
             [
              0.3333333333333333,
              "#9c179e"
             ],
             [
              0.4444444444444444,
              "#bd3786"
             ],
             [
              0.5555555555555556,
              "#d8576b"
             ],
             [
              0.6666666666666666,
              "#ed7953"
             ],
             [
              0.7777777777777778,
              "#fb9f3a"
             ],
             [
              0.8888888888888888,
              "#fdca26"
             ],
             [
              1,
              "#f0f921"
             ]
            ],
            "type": "heatmap"
           }
          ],
          "heatmapgl": [
           {
            "colorbar": {
             "outlinewidth": 0,
             "ticks": ""
            },
            "colorscale": [
             [
              0,
              "#0d0887"
             ],
             [
              0.1111111111111111,
              "#46039f"
             ],
             [
              0.2222222222222222,
              "#7201a8"
             ],
             [
              0.3333333333333333,
              "#9c179e"
             ],
             [
              0.4444444444444444,
              "#bd3786"
             ],
             [
              0.5555555555555556,
              "#d8576b"
             ],
             [
              0.6666666666666666,
              "#ed7953"
             ],
             [
              0.7777777777777778,
              "#fb9f3a"
             ],
             [
              0.8888888888888888,
              "#fdca26"
             ],
             [
              1,
              "#f0f921"
             ]
            ],
            "type": "heatmapgl"
           }
          ],
          "histogram": [
           {
            "marker": {
             "pattern": {
              "fillmode": "overlay",
              "size": 10,
              "solidity": 0.2
             }
            },
            "type": "histogram"
           }
          ],
          "histogram2d": [
           {
            "colorbar": {
             "outlinewidth": 0,
             "ticks": ""
            },
            "colorscale": [
             [
              0,
              "#0d0887"
             ],
             [
              0.1111111111111111,
              "#46039f"
             ],
             [
              0.2222222222222222,
              "#7201a8"
             ],
             [
              0.3333333333333333,
              "#9c179e"
             ],
             [
              0.4444444444444444,
              "#bd3786"
             ],
             [
              0.5555555555555556,
              "#d8576b"
             ],
             [
              0.6666666666666666,
              "#ed7953"
             ],
             [
              0.7777777777777778,
              "#fb9f3a"
             ],
             [
              0.8888888888888888,
              "#fdca26"
             ],
             [
              1,
              "#f0f921"
             ]
            ],
            "type": "histogram2d"
           }
          ],
          "histogram2dcontour": [
           {
            "colorbar": {
             "outlinewidth": 0,
             "ticks": ""
            },
            "colorscale": [
             [
              0,
              "#0d0887"
             ],
             [
              0.1111111111111111,
              "#46039f"
             ],
             [
              0.2222222222222222,
              "#7201a8"
             ],
             [
              0.3333333333333333,
              "#9c179e"
             ],
             [
              0.4444444444444444,
              "#bd3786"
             ],
             [
              0.5555555555555556,
              "#d8576b"
             ],
             [
              0.6666666666666666,
              "#ed7953"
             ],
             [
              0.7777777777777778,
              "#fb9f3a"
             ],
             [
              0.8888888888888888,
              "#fdca26"
             ],
             [
              1,
              "#f0f921"
             ]
            ],
            "type": "histogram2dcontour"
           }
          ],
          "mesh3d": [
           {
            "colorbar": {
             "outlinewidth": 0,
             "ticks": ""
            },
            "type": "mesh3d"
           }
          ],
          "parcoords": [
           {
            "line": {
             "colorbar": {
              "outlinewidth": 0,
              "ticks": ""
             }
            },
            "type": "parcoords"
           }
          ],
          "pie": [
           {
            "automargin": true,
            "type": "pie"
           }
          ],
          "scatter": [
           {
            "fillpattern": {
             "fillmode": "overlay",
             "size": 10,
             "solidity": 0.2
            },
            "type": "scatter"
           }
          ],
          "scatter3d": [
           {
            "line": {
             "colorbar": {
              "outlinewidth": 0,
              "ticks": ""
             }
            },
            "marker": {
             "colorbar": {
              "outlinewidth": 0,
              "ticks": ""
             }
            },
            "type": "scatter3d"
           }
          ],
          "scattercarpet": [
           {
            "marker": {
             "colorbar": {
              "outlinewidth": 0,
              "ticks": ""
             }
            },
            "type": "scattercarpet"
           }
          ],
          "scattergeo": [
           {
            "marker": {
             "colorbar": {
              "outlinewidth": 0,
              "ticks": ""
             }
            },
            "type": "scattergeo"
           }
          ],
          "scattergl": [
           {
            "marker": {
             "colorbar": {
              "outlinewidth": 0,
              "ticks": ""
             }
            },
            "type": "scattergl"
           }
          ],
          "scattermapbox": [
           {
            "marker": {
             "colorbar": {
              "outlinewidth": 0,
              "ticks": ""
             }
            },
            "type": "scattermapbox"
           }
          ],
          "scatterpolar": [
           {
            "marker": {
             "colorbar": {
              "outlinewidth": 0,
              "ticks": ""
             }
            },
            "type": "scatterpolar"
           }
          ],
          "scatterpolargl": [
           {
            "marker": {
             "colorbar": {
              "outlinewidth": 0,
              "ticks": ""
             }
            },
            "type": "scatterpolargl"
           }
          ],
          "scatterternary": [
           {
            "marker": {
             "colorbar": {
              "outlinewidth": 0,
              "ticks": ""
             }
            },
            "type": "scatterternary"
           }
          ],
          "surface": [
           {
            "colorbar": {
             "outlinewidth": 0,
             "ticks": ""
            },
            "colorscale": [
             [
              0,
              "#0d0887"
             ],
             [
              0.1111111111111111,
              "#46039f"
             ],
             [
              0.2222222222222222,
              "#7201a8"
             ],
             [
              0.3333333333333333,
              "#9c179e"
             ],
             [
              0.4444444444444444,
              "#bd3786"
             ],
             [
              0.5555555555555556,
              "#d8576b"
             ],
             [
              0.6666666666666666,
              "#ed7953"
             ],
             [
              0.7777777777777778,
              "#fb9f3a"
             ],
             [
              0.8888888888888888,
              "#fdca26"
             ],
             [
              1,
              "#f0f921"
             ]
            ],
            "type": "surface"
           }
          ],
          "table": [
           {
            "cells": {
             "fill": {
              "color": "#EBF0F8"
             },
             "line": {
              "color": "white"
             }
            },
            "header": {
             "fill": {
              "color": "#C8D4E3"
             },
             "line": {
              "color": "white"
             }
            },
            "type": "table"
           }
          ]
         },
         "layout": {
          "annotationdefaults": {
           "arrowcolor": "#2a3f5f",
           "arrowhead": 0,
           "arrowwidth": 1
          },
          "autotypenumbers": "strict",
          "coloraxis": {
           "colorbar": {
            "outlinewidth": 0,
            "ticks": ""
           }
          },
          "colorscale": {
           "diverging": [
            [
             0,
             "#8e0152"
            ],
            [
             0.1,
             "#c51b7d"
            ],
            [
             0.2,
             "#de77ae"
            ],
            [
             0.3,
             "#f1b6da"
            ],
            [
             0.4,
             "#fde0ef"
            ],
            [
             0.5,
             "#f7f7f7"
            ],
            [
             0.6,
             "#e6f5d0"
            ],
            [
             0.7,
             "#b8e186"
            ],
            [
             0.8,
             "#7fbc41"
            ],
            [
             0.9,
             "#4d9221"
            ],
            [
             1,
             "#276419"
            ]
           ],
           "sequential": [
            [
             0,
             "#0d0887"
            ],
            [
             0.1111111111111111,
             "#46039f"
            ],
            [
             0.2222222222222222,
             "#7201a8"
            ],
            [
             0.3333333333333333,
             "#9c179e"
            ],
            [
             0.4444444444444444,
             "#bd3786"
            ],
            [
             0.5555555555555556,
             "#d8576b"
            ],
            [
             0.6666666666666666,
             "#ed7953"
            ],
            [
             0.7777777777777778,
             "#fb9f3a"
            ],
            [
             0.8888888888888888,
             "#fdca26"
            ],
            [
             1,
             "#f0f921"
            ]
           ],
           "sequentialminus": [
            [
             0,
             "#0d0887"
            ],
            [
             0.1111111111111111,
             "#46039f"
            ],
            [
             0.2222222222222222,
             "#7201a8"
            ],
            [
             0.3333333333333333,
             "#9c179e"
            ],
            [
             0.4444444444444444,
             "#bd3786"
            ],
            [
             0.5555555555555556,
             "#d8576b"
            ],
            [
             0.6666666666666666,
             "#ed7953"
            ],
            [
             0.7777777777777778,
             "#fb9f3a"
            ],
            [
             0.8888888888888888,
             "#fdca26"
            ],
            [
             1,
             "#f0f921"
            ]
           ]
          },
          "colorway": [
           "#636efa",
           "#EF553B",
           "#00cc96",
           "#ab63fa",
           "#FFA15A",
           "#19d3f3",
           "#FF6692",
           "#B6E880",
           "#FF97FF",
           "#FECB52"
          ],
          "font": {
           "color": "#2a3f5f"
          },
          "geo": {
           "bgcolor": "white",
           "lakecolor": "white",
           "landcolor": "white",
           "showlakes": true,
           "showland": true,
           "subunitcolor": "#C8D4E3"
          },
          "hoverlabel": {
           "align": "left"
          },
          "hovermode": "closest",
          "mapbox": {
           "style": "light"
          },
          "paper_bgcolor": "white",
          "plot_bgcolor": "white",
          "polar": {
           "angularaxis": {
            "gridcolor": "#EBF0F8",
            "linecolor": "#EBF0F8",
            "ticks": ""
           },
           "bgcolor": "white",
           "radialaxis": {
            "gridcolor": "#EBF0F8",
            "linecolor": "#EBF0F8",
            "ticks": ""
           }
          },
          "scene": {
           "xaxis": {
            "backgroundcolor": "white",
            "gridcolor": "#DFE8F3",
            "gridwidth": 2,
            "linecolor": "#EBF0F8",
            "showbackground": true,
            "ticks": "",
            "zerolinecolor": "#EBF0F8"
           },
           "yaxis": {
            "backgroundcolor": "white",
            "gridcolor": "#DFE8F3",
            "gridwidth": 2,
            "linecolor": "#EBF0F8",
            "showbackground": true,
            "ticks": "",
            "zerolinecolor": "#EBF0F8"
           },
           "zaxis": {
            "backgroundcolor": "white",
            "gridcolor": "#DFE8F3",
            "gridwidth": 2,
            "linecolor": "#EBF0F8",
            "showbackground": true,
            "ticks": "",
            "zerolinecolor": "#EBF0F8"
           }
          },
          "shapedefaults": {
           "line": {
            "color": "#2a3f5f"
           }
          },
          "ternary": {
           "aaxis": {
            "gridcolor": "#DFE8F3",
            "linecolor": "#A2B1C6",
            "ticks": ""
           },
           "baxis": {
            "gridcolor": "#DFE8F3",
            "linecolor": "#A2B1C6",
            "ticks": ""
           },
           "bgcolor": "white",
           "caxis": {
            "gridcolor": "#DFE8F3",
            "linecolor": "#A2B1C6",
            "ticks": ""
           }
          },
          "title": {
           "x": 0.05
          },
          "xaxis": {
           "automargin": true,
           "gridcolor": "#EBF0F8",
           "linecolor": "#EBF0F8",
           "ticks": "",
           "title": {
            "standoff": 15
           },
           "zerolinecolor": "#EBF0F8",
           "zerolinewidth": 2
          },
          "yaxis": {
           "automargin": true,
           "gridcolor": "#EBF0F8",
           "linecolor": "#EBF0F8",
           "ticks": "",
           "title": {
            "standoff": 15
           },
           "zerolinecolor": "#EBF0F8",
           "zerolinewidth": 2
          }
         }
        },
        "title": {
         "text": "Mean Value number of Alcohol consumption cases for Binge drinking intensity among adults aged >= 18 years who binge drink",
         "x": 0.5
        },
        "xaxis": {
         "anchor": "y",
         "domain": [
          0,
          1
         ],
         "title": {
          "text": "State"
         }
        },
        "yaxis": {
         "anchor": "x",
         "domain": [
          0,
          1
         ],
         "title": {
          "text": "Mean"
         }
        }
       }
      }
     },
     "metadata": {},
     "output_type": "display_data"
    },
    {
     "name": "stdout",
     "output_type": "stream",
     "text": [
      "\n"
     ]
    }
   ],
   "source": [
    "import matplotlib.pyplot as plt\n",
    "import plotly.express as px\n",
    "import numpy as np\n",
    "from scipy.stats import norm\n",
    "\n",
    "# Filter for 'Mean' DataValueType and 'alcohol' Disease\n",
    "alcohol_data = filtered_collected_data[(filtered_collected_data['DataValueType'] == 'Mean') & (filtered_collected_data['Disease'].str.contains('alcohol', case=False))]\n",
    "\n",
    "# Separates each unique type of data in the 'Question' column\n",
    "questions = alcohol_data['Question'].unique()\n",
    "\n",
    "\n",
    "for question in questions:\n",
    "    question_data = alcohol_data[alcohol_data['Question'] == question]\n",
    "\n",
    "    if question_data.empty:\n",
    "        print(f\"No data available for question: {question}\")\n",
    "        continue\n",
    "\n",
    "    # Plotting graphs of DataValueAlt to check distribution\n",
    "    fig, axs = plt.subplots(1, 2, figsize=(12, 5))\n",
    "\n",
    "    # Histogram with Gaussian trend line\n",
    "    data = question_data['DataValueAlt'].dropna()\n",
    "    axs[0].hist(data, bins=10, density=True, alpha=0.6, color='g')\n",
    "\n",
    "    # Fit a normal distribution to the data\n",
    "    mu, std = norm.fit(data)\n",
    "\n",
    "    # Plot the PDF (Probability Density Function)\n",
    "    xmin, xmax = axs[0].get_xlim()\n",
    "    x = np.linspace(xmin, xmax, 100)\n",
    "    p = norm.pdf(x, mu, std)\n",
    "    axs[0].plot(x, p, 'k', linewidth=2)\n",
    "    axs[0].set_xlabel('DataValueAlt')\n",
    "    axs[0].set_ylabel('Density')\n",
    "    axs[0].set_title(f'Histogram with Gaussian Fit for {question}')\n",
    "\n",
    "    # Boxplot\n",
    "    axs[1].boxplot(data.values)\n",
    "    axs[1].set_xlabel('DataValueAlt')\n",
    "    axs[1].set_ylabel('Values')\n",
    "    axs[1].set_title(f'Boxplot of \"DataValueAlt\" for {question}')\n",
    "    axs[1].grid(False)\n",
    "\n",
    "    # Adjusting the layout\n",
    "    plt.tight_layout()\n",
    "    plt.show()\n",
    "\n",
    "    print(f'Here is the description of the dataset for the column \"DataValueAlt\" for {question}:\\n')\n",
    "    print(question_data['DataValueAlt'].describe())\n",
    "\n",
    "    # Calculating the quartiles and IQR\n",
    "    Q1 = question_data['DataValueAlt'].quantile(0.25)\n",
    "    Q3 = question_data['DataValueAlt'].quantile(0.75)\n",
    "    IQR = Q3 - Q1\n",
    "    inferior_limit = Q1 - 1.5 * IQR\n",
    "    superior_limit = Q3 + 1.5 * IQR\n",
    "\n",
    "    print(f\"\\nThe superior limit is {superior_limit:.2f}.\\n The inferior limit is {inferior_limit:.2f}.\\n The Interquartile Range is {IQR:.2f}.\\n\")\n",
    "\n",
    "    # Grouping data by 'YearStart' and 'LocationDesc' and calculating the mean of 'DataValueAlt'\n",
    "    grouped_data = question_data.groupby(['YearStart', 'LocationDesc'])['DataValueAlt'].mean().reset_index()\n",
    "\n",
    "    # Creating an interactive bar graph for the full dataset\n",
    "    fig_full_data = px.bar(grouped_data,\n",
    "                           x='LocationDesc',\n",
    "                           y='DataValueAlt',\n",
    "                           color='YearStart',\n",
    "                           barmode='group',\n",
    "                           title=f'Mean Value number of Alcohol consumption cases for {question}',\n",
    "                           labels={'DataValueAlt': 'Mean', 'LocationDesc': 'State', 'YearStart': 'Year'})\n",
    "\n",
    "    fig_full_data.update_layout(template='plotly_white', xaxis_title='State', yaxis_title='Mean', \n",
    "                                title_x=0.5, legend_title_text='Year')\n",
    "    \n",
    "    fig_full_data.show()\n",
    "    print()"
   ]
  },
  {
   "cell_type": "markdown",
   "metadata": {},
   "source": [
    "<h2>Key information on Alcohol Consumption</h2>\n",
    "We retrieved some very useful informations already. The histograms show that the datasets are normally distributed and the boxplots enable us to visualize the amount of outliers. Outliers represent groups of people that have a large consumption of alcohol and that could lead to secondary health problems.\n",
    "<br><br>\n",
    "Furthermore, the alcohol consumption frequency is 4 days per week. We also discovered that the average person drinks over 7 drinks on a given occasion. The CDC considers excessive alcohol use for anyone drinking 4+ drinks each time and alcohol abuse with 14+ drinks per week. This means that the average american consumes <u>28 drinks</u> per week and over 50% has a harmful consumption of alcohol.\n",
    "<br><br>\n",
    "The pile graphs show a detailed distribution of each data per State per year alongside the US mean values. \n",
    "<br><br>\n",
    "<b>Note 3:</b> Guam, Puerto Rico, The Virgin Islands and American Samoa are considered as extraterritorial part of the US and data was presented whenever available.\n",
    "<br>\n",
    "<b>Note 4:</b> The Virgins Islands graph is empty due to the total error being over 30% on the data collected. "
   ]
  },
  {
   "cell_type": "code",
   "execution_count": 7,
   "metadata": {},
   "outputs": [
    {
     "data": {
      "image/png": "[encoded data removed]",
      "text/plain": [
       "<Figure size 1200x500 with 2 Axes>"
      ]
     },
     "metadata": {},
     "output_type": "display_data"
    },
    {
     "name": "stdout",
     "output_type": "stream",
     "text": [
      "Here is the description of the dataset for the column \"DataValueAlt\" for\n",
      " Adults with diagnosed diabetes aged >= 18 years who have taken a diabetes self-management course:\n",
      "\n",
      "count    384.000000\n",
      "mean      53.994531\n",
      "std        8.899089\n",
      "min       24.200000\n",
      "25%       49.000000\n",
      "50%       54.350000\n",
      "75%       59.325000\n",
      "max       89.900000\n",
      "Name: DataValueAlt, dtype: float64\n",
      "The superior limit is 74.81.\n",
      " The inferior limit is 33.51.\n",
      " The Interquartile Range is 10.32.\n"
     ]
    },
    {
     "data": {
      "application/vnd.plotly.v1+json": {
       "config": {
        "plotlyServerURL": "https://plot.ly"
       },
       "data": [
        {
         "alignmentgroup": "True",
         "hovertemplate": "City=%{x}<br>Mean=%{y}<br>Year=%{marker.color}<extra></extra>",
         "legendgroup": "",
         "marker": {
          "color": [
           2012,
           2012,
           2012,
           2012,
           2012,
           2012,
           2012,
           2012,
           2012,
           2012,
           2012,
           2012,
           2012,
           2012,
           2012,
           2012,
           2012,
           2012,
           2012,
           2012,
           2012,
           2012,
           2012,
           2012,
           2012,
           2012,
           2012,
           2012,
           2012,
           2012,
           2012,
           2012,
           2012,
           2012,
           2012,
           2012,
           2012,
           2012,
           2012,
           2012,
           2012,
           2012,
           2012,
           2012,
           2012,
           2012,
           2012,
           2012,
           2012,
           2012,
           2012,
           2012,
           2012,
           2012,
           2012,
           2013,
           2013,
           2013,
           2013,
           2013,
           2013,
           2013,
           2013,
           2013,
           2013,
           2013,
           2013,
           2013,
           2013,
           2013,
           2013,
           2013,
           2013,
           2013,
           2013,
           2013,
           2013,
           2013,
           2013,
           2013,
           2013,
           2013,
           2013,
           2013,
           2013,
           2013,
           2013,
           2013,
           2013,
           2013,
           2013,
           2013,
           2013,
           2013,
           2013,
           2013,
           2013,
           2013,
           2013,
           2013,
           2013,
           2013,
           2013,
           2013,
           2013,
           2013,
           2013,
           2013,
           2013,
           2013,
           2014,
           2014,
           2014,
           2014,
           2014,
           2014,
           2014,
           2014,
           2014,
           2014,
           2014,
           2014,
           2014,
           2014,
           2014,
           2014,
           2014,
           2014,
           2014,
           2014,
           2014,
           2014,
           2014,
           2014,
           2014,
           2014,
           2014,
           2014,
           2014,
           2014,
           2014,
           2014,
           2014,
           2014,
           2014,
           2014,
           2014,
           2014,
           2014,
           2014,
           2014,
           2014,
           2014,
           2014,
           2014,
           2014,
           2014,
           2014,
           2014,
           2014,
           2014,
           2014,
           2014,
           2014,
           2014
          ],
          "coloraxis": "coloraxis",
          "pattern": {
           "shape": ""
          }
         },
         "name": "",
         "offsetgroup": "",
         "orientation": "v",
         "showlegend": false,
         "textposition": "auto",
         "type": "bar",
         "x": [
          "Alabama",
          "Alaska",
          "Arizona",
          "Arkansas",
          "California",
          "Colorado",
          "Connecticut",
          "Delaware",
          "District of Columbia",
          "Florida",
          "Georgia",
          "Guam",
          "Hawaii",
          "Idaho",
          "Illinois",
          "Indiana",
          "Iowa",
          "Kansas",
          "Kentucky",
          "Louisiana",
          "Maine",
          "Maryland",
          "Massachusetts",
          "Michigan",
          "Minnesota",
          "Mississippi",
          "Missouri",
          "Montana",
          "Nebraska",
          "Nevada",
          "New Hampshire",
          "New Jersey",
          "New Mexico",
          "New York",
          "North Carolina",
          "North Dakota",
          "Ohio",
          "Oklahoma",
          "Oregon",
          "Pennsylvania",
          "Puerto Rico",
          "Rhode Island",
          "South Carolina",
          "South Dakota",
          "Tennessee",
          "Texas",
          "United States",
          "Utah",
          "Vermont",
          "Virgin Islands",
          "Virginia",
          "Washington",
          "West Virginia",
          "Wisconsin",
          "Wyoming",
          "Alabama",
          "Alaska",
          "Arizona",
          "Arkansas",
          "California",
          "Colorado",
          "Connecticut",
          "Delaware",
          "District of Columbia",
          "Florida",
          "Georgia",
          "Guam",
          "Hawaii",
          "Idaho",
          "Illinois",
          "Indiana",
          "Iowa",
          "Kansas",
          "Kentucky",
          "Louisiana",
          "Maine",
          "Maryland",
          "Massachusetts",
          "Michigan",
          "Minnesota",
          "Mississippi",
          "Missouri",
          "Montana",
          "Nebraska",
          "Nevada",
          "New Hampshire",
          "New Jersey",
          "New Mexico",
          "New York",
          "North Carolina",
          "North Dakota",
          "Ohio",
          "Oklahoma",
          "Oregon",
          "Pennsylvania",
          "Puerto Rico",
          "Rhode Island",
          "South Carolina",
          "South Dakota",
          "Tennessee",
          "Texas",
          "United States",
          "Utah",
          "Vermont",
          "Virgin Islands",
          "Virginia",
          "Washington",
          "West Virginia",
          "Wisconsin",
          "Wyoming",
          "Alabama",
          "Alaska",
          "Arizona",
          "Arkansas",
          "California",
          "Colorado",
          "Connecticut",
          "Delaware",
          "District of Columbia",
          "Florida",
          "Georgia",
          "Guam",
          "Hawaii",
          "Idaho",
          "Illinois",
          "Indiana",
          "Iowa",
          "Kansas",
          "Kentucky",
          "Louisiana",
          "Maine",
          "Maryland",
          "Massachusetts",
          "Michigan",
          "Minnesota",
          "Mississippi",
          "Missouri",
          "Montana",
          "Nebraska",
          "Nevada",
          "New Hampshire",
          "New Jersey",
          "New Mexico",
          "New York",
          "North Carolina",
          "North Dakota",
          "Ohio",
          "Oklahoma",
          "Oregon",
          "Pennsylvania",
          "Puerto Rico",
          "Rhode Island",
          "South Carolina",
          "South Dakota",
          "Tennessee",
          "Texas",
          "United States",
          "Utah",
          "Vermont",
          "Virgin Islands",
          "Virginia",
          "Washington",
          "West Virginia",
          "Wisconsin",
          "Wyoming"
         ],
         "xaxis": "x",
         "y": [
          53.7,
          71.1,
          null,
          51.1,
          null,
          null,
          50.4,
          50.8,
          null,
          null,
          54.6,
          41.5,
          46.4,
          62.2,
          null,
          null,
          null,
          60.8,
          49,
          null,
          61.1,
          null,
          null,
          61.9,
          71.7,
          46.9,
          null,
          null,
          62.3,
          53.1,
          null,
          46.6,
          58.8,
          null,
          55.9,
          null,
          56.7,
          55.9,
          68,
          54,
          27.9,
          null,
          51.6,
          58.1,
          50.7,
          54.2,
          54.6,
          57,
          53.2,
          null,
          56.6,
          null,
          48.2,
          64.8,
          59.7,
          53.260000000000005,
          62.48,
          59.67999999999999,
          49.28,
          null,
          null,
          44.300000000000004,
          48.56,
          58.42,
          49.425,
          56.620000000000005,
          40.9,
          48.57142857142857,
          null,
          56.239999999999995,
          62.54,
          62.3,
          61.6,
          52.96,
          54.260000000000005,
          58.275,
          null,
          45.166666666666664,
          63.275,
          74.85000000000001,
          null,
          61.660000000000004,
          59.1,
          58.725,
          57.86,
          null,
          41.01428571428572,
          56.26666666666667,
          null,
          56.21666666666667,
          59.94,
          57.160000000000004,
          56.199999999999996,
          64.25,
          55.08,
          29.625,
          null,
          56.339999999999996,
          null,
          49.96,
          48.449999999999996,
          55.76666666666667,
          null,
          null,
          null,
          60.58,
          null,
          48.474999999999994,
          62.78333333333333,
          null,
          null,
          55.260000000000005,
          56.4,
          null,
          null,
          null,
          49.26666666666667,
          52.61666666666667,
          49.92,
          49.699999999999996,
          53.839999999999996,
          41.4,
          null,
          null,
          null,
          58.94,
          64.7,
          null,
          null,
          56.86,
          59.15,
          null,
          null,
          null,
          null,
          43.4,
          null,
          null,
          67.725,
          null,
          null,
          41.42857142857143,
          56.15,
          null,
          null,
          57,
          56.48,
          null,
          null,
          null,
          26.225,
          null,
          53.94,
          60.08,
          46.6,
          50.61666666666667,
          53.800000000000004,
          null,
          null,
          null,
          55.1,
          null,
          48.2,
          null,
          49.12
         ],
         "yaxis": "y"
        }
       ],
       "layout": {
        "barmode": "group",
        "coloraxis": {
         "colorbar": {
          "title": {
           "text": "Year"
          }
         },
         "colorscale": [
          [
           0,
           "#0d0887"
          ],
          [
           0.1111111111111111,
           "#46039f"
          ],
          [
           0.2222222222222222,
           "#7201a8"
          ],
          [
           0.3333333333333333,
           "#9c179e"
          ],
          [
           0.4444444444444444,
           "#bd3786"
          ],
          [
           0.5555555555555556,
           "#d8576b"
          ],
          [
           0.6666666666666666,
           "#ed7953"
          ],
          [
           0.7777777777777778,
           "#fb9f3a"
          ],
          [
           0.8888888888888888,
           "#fdca26"
          ],
          [
           1,
           "#f0f921"
          ]
         ]
        },
        "legend": {
         "title": {
          "text": "Year"
         },
         "tracegroupgap": 0
        },
        "template": {
         "data": {
          "bar": [
           {
            "error_x": {
             "color": "#2a3f5f"
            },
            "error_y": {
             "color": "#2a3f5f"
            },
            "marker": {
             "line": {
              "color": "white",
              "width": 0.5
             },
             "pattern": {
              "fillmode": "overlay",
              "size": 10,
              "solidity": 0.2
             }
            },
            "type": "bar"
           }
          ],
          "barpolar": [
           {
            "marker": {
             "line": {
              "color": "white",
              "width": 0.5
             },
             "pattern": {
              "fillmode": "overlay",
              "size": 10,
              "solidity": 0.2
             }
            },
            "type": "barpolar"
           }
          ],
          "carpet": [
           {
            "aaxis": {
             "endlinecolor": "#2a3f5f",
             "gridcolor": "#C8D4E3",
             "linecolor": "#C8D4E3",
             "minorgridcolor": "#C8D4E3",
             "startlinecolor": "#2a3f5f"
            },
            "baxis": {
             "endlinecolor": "#2a3f5f",
             "gridcolor": "#C8D4E3",
             "linecolor": "#C8D4E3",
             "minorgridcolor": "#C8D4E3",
             "startlinecolor": "#2a3f5f"
            },
            "type": "carpet"
           }
          ],
          "choropleth": [
           {
            "colorbar": {
             "outlinewidth": 0,
             "ticks": ""
            },
            "type": "choropleth"
           }
          ],
          "contour": [
           {
            "colorbar": {
             "outlinewidth": 0,
             "ticks": ""
            },
            "colorscale": [
             [
              0,
              "#0d0887"
             ],
             [
              0.1111111111111111,
              "#46039f"
             ],
             [
              0.2222222222222222,
              "#7201a8"
             ],
             [
              0.3333333333333333,
              "#9c179e"
             ],
             [
              0.4444444444444444,
              "#bd3786"
             ],
             [
              0.5555555555555556,
              "#d8576b"
             ],
             [
              0.6666666666666666,
              "#ed7953"
             ],
             [
              0.7777777777777778,
              "#fb9f3a"
             ],
             [
              0.8888888888888888,
              "#fdca26"
             ],
             [
              1,
              "#f0f921"
             ]
            ],
            "type": "contour"
           }
          ],
          "contourcarpet": [
           {
            "colorbar": {
             "outlinewidth": 0,
             "ticks": ""
            },
            "type": "contourcarpet"
           }
          ],
          "heatmap": [
           {
            "colorbar": {
             "outlinewidth": 0,
             "ticks": ""
            },
            "colorscale": [
             [
              0,
              "#0d0887"
             ],
             [
              0.1111111111111111,
              "#46039f"
             ],
             [
              0.2222222222222222,
              "#7201a8"
             ],
             [
              0.3333333333333333,
              "#9c179e"
             ],
             [
              0.4444444444444444,
              "#bd3786"
             ],
             [
              0.5555555555555556,
              "#d8576b"
             ],
             [
              0.6666666666666666,
              "#ed7953"
             ],
             [
              0.7777777777777778,
              "#fb9f3a"
             ],
             [
              0.8888888888888888,
              "#fdca26"
             ],
             [
              1,
              "#f0f921"
             ]
            ],
            "type": "heatmap"
           }
          ],
          "heatmapgl": [
           {
            "colorbar": {
             "outlinewidth": 0,
             "ticks": ""
            },
            "colorscale": [
             [
              0,
              "#0d0887"
             ],
             [
              0.1111111111111111,
              "#46039f"
             ],
             [
              0.2222222222222222,
              "#7201a8"
             ],
             [
              0.3333333333333333,
              "#9c179e"
             ],
             [
              0.4444444444444444,
              "#bd3786"
             ],
             [
              0.5555555555555556,
              "#d8576b"
             ],
             [
              0.6666666666666666,
              "#ed7953"
             ],
             [
              0.7777777777777778,
              "#fb9f3a"
             ],
             [
              0.8888888888888888,
              "#fdca26"
             ],
             [
              1,
              "#f0f921"
             ]
            ],
            "type": "heatmapgl"
           }
          ],
          "histogram": [
           {
            "marker": {
             "pattern": {
              "fillmode": "overlay",
              "size": 10,
              "solidity": 0.2
             }
            },
            "type": "histogram"
           }
          ],
          "histogram2d": [
           {
            "colorbar": {
             "outlinewidth": 0,
             "ticks": ""
            },
            "colorscale": [
             [
              0,
              "#0d0887"
             ],
             [
              0.1111111111111111,
              "#46039f"
             ],
             [
              0.2222222222222222,
              "#7201a8"
             ],
             [
              0.3333333333333333,
              "#9c179e"
             ],
             [
              0.4444444444444444,
              "#bd3786"
             ],
             [
              0.5555555555555556,
              "#d8576b"
             ],
             [
              0.6666666666666666,
              "#ed7953"
             ],
             [
              0.7777777777777778,
              "#fb9f3a"
             ],
             [
              0.8888888888888888,
              "#fdca26"
             ],
             [
              1,
              "#f0f921"
             ]
            ],
            "type": "histogram2d"
           }
          ],
          "histogram2dcontour": [
           {
            "colorbar": {
             "outlinewidth": 0,
             "ticks": ""
            },
            "colorscale": [
             [
              0,
              "#0d0887"
             ],
             [
              0.1111111111111111,
              "#46039f"
             ],
             [
              0.2222222222222222,
              "#7201a8"
             ],
             [
              0.3333333333333333,
              "#9c179e"
             ],
             [
              0.4444444444444444,
              "#bd3786"
             ],
             [
              0.5555555555555556,
              "#d8576b"
             ],
             [
              0.6666666666666666,
              "#ed7953"
             ],
             [
              0.7777777777777778,
              "#fb9f3a"
             ],
             [
              0.8888888888888888,
              "#fdca26"
             ],
             [
              1,
              "#f0f921"
             ]
            ],
            "type": "histogram2dcontour"
           }
          ],
          "mesh3d": [
           {
            "colorbar": {
             "outlinewidth": 0,
             "ticks": ""
            },
            "type": "mesh3d"
           }
          ],
          "parcoords": [
           {
            "line": {
             "colorbar": {
              "outlinewidth": 0,
              "ticks": ""
             }
            },
            "type": "parcoords"
           }
          ],
          "pie": [
           {
            "automargin": true,
            "type": "pie"
           }
          ],
          "scatter": [
           {
            "fillpattern": {
             "fillmode": "overlay",
             "size": 10,
             "solidity": 0.2
            },
            "type": "scatter"
           }
          ],
          "scatter3d": [
           {
            "line": {
             "colorbar": {
              "outlinewidth": 0,
              "ticks": ""
             }
            },
            "marker": {
             "colorbar": {
              "outlinewidth": 0,
              "ticks": ""
             }
            },
            "type": "scatter3d"
           }
          ],
          "scattercarpet": [
           {
            "marker": {
             "colorbar": {
              "outlinewidth": 0,
              "ticks": ""
             }
            },
            "type": "scattercarpet"
           }
          ],
          "scattergeo": [
           {
            "marker": {
             "colorbar": {
              "outlinewidth": 0,
              "ticks": ""
             }
            },
            "type": "scattergeo"
           }
          ],
          "scattergl": [
           {
            "marker": {
             "colorbar": {
              "outlinewidth": 0,
              "ticks": ""
             }
            },
            "type": "scattergl"
           }
          ],
          "scattermapbox": [
           {
            "marker": {
             "colorbar": {
              "outlinewidth": 0,
              "ticks": ""
             }
            },
            "type": "scattermapbox"
           }
          ],
          "scatterpolar": [
           {
            "marker": {
             "colorbar": {
              "outlinewidth": 0,
              "ticks": ""
             }
            },
            "type": "scatterpolar"
           }
          ],
          "scatterpolargl": [
           {
            "marker": {
             "colorbar": {
              "outlinewidth": 0,
              "ticks": ""
             }
            },
            "type": "scatterpolargl"
           }
          ],
          "scatterternary": [
           {
            "marker": {
             "colorbar": {
              "outlinewidth": 0,
              "ticks": ""
             }
            },
            "type": "scatterternary"
           }
          ],
          "surface": [
           {
            "colorbar": {
             "outlinewidth": 0,
             "ticks": ""
            },
            "colorscale": [
             [
              0,
              "#0d0887"
             ],
             [
              0.1111111111111111,
              "#46039f"
             ],
             [
              0.2222222222222222,
              "#7201a8"
             ],
             [
              0.3333333333333333,
              "#9c179e"
             ],
             [
              0.4444444444444444,
              "#bd3786"
             ],
             [
              0.5555555555555556,
              "#d8576b"
             ],
             [
              0.6666666666666666,
              "#ed7953"
             ],
             [
              0.7777777777777778,
              "#fb9f3a"
             ],
             [
              0.8888888888888888,
              "#fdca26"
             ],
             [
              1,
              "#f0f921"
             ]
            ],
            "type": "surface"
           }
          ],
          "table": [
           {
            "cells": {
             "fill": {
              "color": "#EBF0F8"
             },
             "line": {
              "color": "white"
             }
            },
            "header": {
             "fill": {
              "color": "#C8D4E3"
             },
             "line": {
              "color": "white"
             }
            },
            "type": "table"
           }
          ]
         },
         "layout": {
          "annotationdefaults": {
           "arrowcolor": "#2a3f5f",
           "arrowhead": 0,
           "arrowwidth": 1
          },
          "autotypenumbers": "strict",
          "coloraxis": {
           "colorbar": {
            "outlinewidth": 0,
            "ticks": ""
           }
          },
          "colorscale": {
           "diverging": [
            [
             0,
             "#8e0152"
            ],
            [
             0.1,
             "#c51b7d"
            ],
            [
             0.2,
             "#de77ae"
            ],
            [
             0.3,
             "#f1b6da"
            ],
            [
             0.4,
             "#fde0ef"
            ],
            [
             0.5,
             "#f7f7f7"
            ],
            [
             0.6,
             "#e6f5d0"
            ],
            [
             0.7,
             "#b8e186"
            ],
            [
             0.8,
             "#7fbc41"
            ],
            [
             0.9,
             "#4d9221"
            ],
            [
             1,
             "#276419"
            ]
           ],
           "sequential": [
            [
             0,
             "#0d0887"
            ],
            [
             0.1111111111111111,
             "#46039f"
            ],
            [
             0.2222222222222222,
             "#7201a8"
            ],
            [
             0.3333333333333333,
             "#9c179e"
            ],
            [
             0.4444444444444444,
             "#bd3786"
            ],
            [
             0.5555555555555556,
             "#d8576b"
            ],
            [
             0.6666666666666666,
             "#ed7953"
            ],
            [
             0.7777777777777778,
             "#fb9f3a"
            ],
            [
             0.8888888888888888,
             "#fdca26"
            ],
            [
             1,
             "#f0f921"
            ]
           ],
           "sequentialminus": [
            [
             0,
             "#0d0887"
            ],
            [
             0.1111111111111111,
             "#46039f"
            ],
            [
             0.2222222222222222,
             "#7201a8"
            ],
            [
             0.3333333333333333,
             "#9c179e"
            ],
            [
             0.4444444444444444,
             "#bd3786"
            ],
            [
             0.5555555555555556,
             "#d8576b"
            ],
            [
             0.6666666666666666,
             "#ed7953"
            ],
            [
             0.7777777777777778,
             "#fb9f3a"
            ],
            [
             0.8888888888888888,
             "#fdca26"
            ],
            [
             1,
             "#f0f921"
            ]
           ]
          },
          "colorway": [
           "#636efa",
           "#EF553B",
           "#00cc96",
           "#ab63fa",
           "#FFA15A",
           "#19d3f3",
           "#FF6692",
           "#B6E880",
           "#FF97FF",
           "#FECB52"
          ],
          "font": {
           "color": "#2a3f5f"
          },
          "geo": {
           "bgcolor": "white",
           "lakecolor": "white",
           "landcolor": "white",
           "showlakes": true,
           "showland": true,
           "subunitcolor": "#C8D4E3"
          },
          "hoverlabel": {
           "align": "left"
          },
          "hovermode": "closest",
          "mapbox": {
           "style": "light"
          },
          "paper_bgcolor": "white",
          "plot_bgcolor": "white",
          "polar": {
           "angularaxis": {
            "gridcolor": "#EBF0F8",
            "linecolor": "#EBF0F8",
            "ticks": ""
           },
           "bgcolor": "white",
           "radialaxis": {
            "gridcolor": "#EBF0F8",
            "linecolor": "#EBF0F8",
            "ticks": ""
           }
          },
          "scene": {
           "xaxis": {
            "backgroundcolor": "white",
            "gridcolor": "#DFE8F3",
            "gridwidth": 2,
            "linecolor": "#EBF0F8",
            "showbackground": true,
            "ticks": "",
            "zerolinecolor": "#EBF0F8"
           },
           "yaxis": {
            "backgroundcolor": "white",
            "gridcolor": "#DFE8F3",
            "gridwidth": 2,
            "linecolor": "#EBF0F8",
            "showbackground": true,
            "ticks": "",
            "zerolinecolor": "#EBF0F8"
           },
           "zaxis": {
            "backgroundcolor": "white",
            "gridcolor": "#DFE8F3",
            "gridwidth": 2,
            "linecolor": "#EBF0F8",
            "showbackground": true,
            "ticks": "",
            "zerolinecolor": "#EBF0F8"
           }
          },
          "shapedefaults": {
           "line": {
            "color": "#2a3f5f"
           }
          },
          "ternary": {
           "aaxis": {
            "gridcolor": "#DFE8F3",
            "linecolor": "#A2B1C6",
            "ticks": ""
           },
           "baxis": {
            "gridcolor": "#DFE8F3",
            "linecolor": "#A2B1C6",
            "ticks": ""
           },
           "bgcolor": "white",
           "caxis": {
            "gridcolor": "#DFE8F3",
            "linecolor": "#A2B1C6",
            "ticks": ""
           }
          },
          "title": {
           "x": 0.05
          },
          "xaxis": {
           "automargin": true,
           "gridcolor": "#EBF0F8",
           "linecolor": "#EBF0F8",
           "ticks": "",
           "title": {
            "standoff": 15
           },
           "zerolinecolor": "#EBF0F8",
           "zerolinewidth": 2
          },
          "yaxis": {
           "automargin": true,
           "gridcolor": "#EBF0F8",
           "linecolor": "#EBF0F8",
           "ticks": "",
           "title": {
            "standoff": 15
           },
           "zerolinecolor": "#EBF0F8",
           "zerolinewidth": 2
          }
         }
        },
        "title": {
         "text": "Mean Value number of Adults with diagnosed diabetes aged >= 18 years who have taken a diabetes self-management course",
         "x": 0.5
        },
        "xaxis": {
         "anchor": "y",
         "domain": [
          0,
          1
         ],
         "title": {
          "text": "City"
         }
        },
        "yaxis": {
         "anchor": "x",
         "domain": [
          0,
          1
         ],
         "title": {
          "text": "Mean"
         }
        }
       }
      }
     },
     "metadata": {},
     "output_type": "display_data"
    },
    {
     "name": "stdout",
     "output_type": "stream",
     "text": [
      "\n"
     ]
    },
    {
     "data": {
      "image/png": "[encoded data removed]",
      "text/plain": [
       "<Figure size 1200x500 with 2 Axes>"
      ]
     },
     "metadata": {},
     "output_type": "display_data"
    },
    {
     "name": "stdout",
     "output_type": "stream",
     "text": [
      "Here is the description of the dataset for the column \"DataValueAlt\" for\n",
      " Prevalence of diagnosed diabetes among adults aged >= 18 years:\n",
      "\n",
      "count    749.000000\n",
      "mean      10.473832\n",
      "std        2.689618\n",
      "min        2.300000\n",
      "25%        8.700000\n",
      "50%       10.100000\n",
      "75%       11.900000\n",
      "max       24.200000\n",
      "Name: DataValueAlt, dtype: float64\n",
      "The superior limit is 16.70.\n",
      " The inferior limit is 3.90.\n",
      " The Interquartile Range is 3.20.\n"
     ]
    },
    {
     "data": {
      "application/vnd.plotly.v1+json": {
       "config": {
        "plotlyServerURL": "https://plot.ly"
       },
       "data": [
        {
         "alignmentgroup": "True",
         "hovertemplate": "City=%{x}<br>Mean=%{y}<br>Year=%{marker.color}<extra></extra>",
         "legendgroup": "",
         "marker": {
          "color": [
           2012,
           2012,
           2012,
           2012,
           2012,
           2012,
           2012,
           2012,
           2012,
           2012,
           2012,
           2012,
           2012,
           2012,
           2012,
           2012,
           2012,
           2012,
           2012,
           2012,
           2012,
           2012,
           2012,
           2012,
           2012,
           2012,
           2012,
           2012,
           2012,
           2012,
           2012,
           2012,
           2012,
           2012,
           2012,
           2012,
           2012,
           2012,
           2012,
           2012,
           2012,
           2012,
           2012,
           2012,
           2012,
           2012,
           2012,
           2012,
           2012,
           2012,
           2012,
           2012,
           2012,
           2012,
           2012,
           2013,
           2013,
           2013,
           2013,
           2013,
           2013,
           2013,
           2013,
           2013,
           2013,
           2013,
           2013,
           2013,
           2013,
           2013,
           2013,
           2013,
           2013,
           2013,
           2013,
           2013,
           2013,
           2013,
           2013,
           2013,
           2013,
           2013,
           2013,
           2013,
           2013,
           2013,
           2013,
           2013,
           2013,
           2013,
           2013,
           2013,
           2013,
           2013,
           2013,
           2013,
           2013,
           2013,
           2013,
           2013,
           2013,
           2013,
           2013,
           2013,
           2013,
           2013,
           2013,
           2013,
           2013,
           2013,
           2014,
           2014,
           2014,
           2014,
           2014,
           2014,
           2014,
           2014,
           2014,
           2014,
           2014,
           2014,
           2014,
           2014,
           2014,
           2014,
           2014,
           2014,
           2014,
           2014,
           2014,
           2014,
           2014,
           2014,
           2014,
           2014,
           2014,
           2014,
           2014,
           2014,
           2014,
           2014,
           2014,
           2014,
           2014,
           2014,
           2014,
           2014,
           2014,
           2014,
           2014,
           2014,
           2014,
           2014,
           2014,
           2014,
           2014,
           2014,
           2014,
           2014,
           2014,
           2014,
           2014,
           2014,
           2014
          ],
          "coloraxis": "coloraxis",
          "pattern": {
           "shape": ""
          }
         },
         "name": "",
         "offsetgroup": "",
         "orientation": "v",
         "showlegend": false,
         "textposition": "auto",
         "type": "bar",
         "x": [
          "Alabama",
          "Alaska",
          "Arizona",
          "Arkansas",
          "California",
          "Colorado",
          "Connecticut",
          "Delaware",
          "District of Columbia",
          "Florida",
          "Georgia",
          "Guam",
          "Hawaii",
          "Idaho",
          "Illinois",
          "Indiana",
          "Iowa",
          "Kansas",
          "Kentucky",
          "Louisiana",
          "Maine",
          "Maryland",
          "Massachusetts",
          "Michigan",
          "Minnesota",
          "Mississippi",
          "Missouri",
          "Montana",
          "Nebraska",
          "Nevada",
          "New Hampshire",
          "New Jersey",
          "New Mexico",
          "New York",
          "North Carolina",
          "North Dakota",
          "Ohio",
          "Oklahoma",
          "Oregon",
          "Pennsylvania",
          "Puerto Rico",
          "Rhode Island",
          "South Carolina",
          "South Dakota",
          "Tennessee",
          "Texas",
          "United States",
          "Utah",
          "Vermont",
          "Virgin Islands",
          "Virginia",
          "Washington",
          "West Virginia",
          "Wisconsin",
          "Wyoming",
          "Alabama",
          "Alaska",
          "Arizona",
          "Arkansas",
          "California",
          "Colorado",
          "Connecticut",
          "Delaware",
          "District of Columbia",
          "Florida",
          "Georgia",
          "Guam",
          "Hawaii",
          "Idaho",
          "Illinois",
          "Indiana",
          "Iowa",
          "Kansas",
          "Kentucky",
          "Louisiana",
          "Maine",
          "Maryland",
          "Massachusetts",
          "Michigan",
          "Minnesota",
          "Mississippi",
          "Missouri",
          "Montana",
          "Nebraska",
          "Nevada",
          "New Hampshire",
          "New Jersey",
          "New Mexico",
          "New York",
          "North Carolina",
          "North Dakota",
          "Ohio",
          "Oklahoma",
          "Oregon",
          "Pennsylvania",
          "Puerto Rico",
          "Rhode Island",
          "South Carolina",
          "South Dakota",
          "Tennessee",
          "Texas",
          "United States",
          "Utah",
          "Vermont",
          "Virgin Islands",
          "Virginia",
          "Washington",
          "West Virginia",
          "Wisconsin",
          "Wyoming",
          "Alabama",
          "Alaska",
          "Arizona",
          "Arkansas",
          "California",
          "Colorado",
          "Connecticut",
          "Delaware",
          "District of Columbia",
          "Florida",
          "Georgia",
          "Guam",
          "Hawaii",
          "Idaho",
          "Illinois",
          "Indiana",
          "Iowa",
          "Kansas",
          "Kentucky",
          "Louisiana",
          "Maine",
          "Maryland",
          "Massachusetts",
          "Michigan",
          "Minnesota",
          "Mississippi",
          "Missouri",
          "Montana",
          "Nebraska",
          "Nevada",
          "New Hampshire",
          "New Jersey",
          "New Mexico",
          "New York",
          "North Carolina",
          "North Dakota",
          "Ohio",
          "Oklahoma",
          "Oregon",
          "Pennsylvania",
          "Puerto Rico",
          "Rhode Island",
          "South Carolina",
          "South Dakota",
          "Tennessee",
          "Texas",
          "United States",
          "Utah",
          "Vermont",
          "Virgin Islands",
          "Virginia",
          "Washington",
          "West Virginia",
          "Wisconsin",
          "Wyoming"
         ],
         "xaxis": "x",
         "y": [
          12.2,
          7,
          10.6,
          11.3,
          9.8,
          7.4,
          9.1,
          9.6,
          8.2,
          11.4,
          9.9,
          9.6,
          7.8,
          8.5,
          9.4,
          10.9,
          9.7,
          9.4,
          10.7,
          12.3,
          9.7,
          10.2,
          8.3,
          10.5,
          7.3,
          12.5,
          10.7,
          7.2,
          8.1,
          8.9,
          9.1,
          9.3,
          10.3,
          9.7,
          10.4,
          8.6,
          11.7,
          11.5,
          9.9,
          10.2,
          16.4,
          9.8,
          11.6,
          7.8,
          11.9,
          10.6,
          9.7,
          7.2,
          7.3,
          null,
          10.6,
          8.8,
          13,
          8.3,
          9.1,
          14.48,
          7,
          11.357142857142858,
          12.040000000000001,
          11.5375,
          7.449999999999999,
          8.785714285714286,
          9.971428571428572,
          7.780000000000001,
          11.2375,
          10.514285714285714,
          14.383333333333333,
          8.185714285714285,
          8.14,
          10.450000000000001,
          11.3625,
          9.375,
          9.9625,
          10.62,
          12.14,
          11.440000000000001,
          9.9375,
          9.242857142857144,
          10.25,
          7.633333333333333,
          12.98,
          12.016666666666666,
          8.940000000000001,
          9.3625,
          10.885714285714286,
          10.459999999999999,
          9.428571428571429,
          11.457142857142857,
          11.757142857142856,
          10.685714285714285,
          9.620000000000001,
          10.62857142857143,
          11.5375,
          9.166666666666666,
          10.542857142857143,
          14.875,
          10.185714285714285,
          11.4125,
          9.959999999999999,
          12.7,
          10.714285714285714,
          9.799999999999999,
          7.1499999999999995,
          7.62,
          null,
          9.7625,
          8.7625,
          14.4,
          9.5,
          10.266666666666666,
          12.716666666666667,
          7.12,
          10.0375,
          14.616666666666667,
          11.0125,
          7.925,
          10.700000000000001,
          11.557142857142859,
          8.559999999999999,
          10.9375,
          11.016666666666666,
          10.583333333333334,
          9.37142857142857,
          7.5200000000000005,
          10.542857142857143,
          9.275,
          11.483333333333334,
          11.200000000000001,
          12.514285714285714,
          10.685714285714285,
          9.34,
          9.85,
          10.0875,
          10.6375,
          9.125,
          13.36,
          12.299999999999999,
          10.45,
          10.0375,
          9.971428571428572,
          9.1,
          10.4,
          12.614285714285716,
          10.442857142857141,
          10.614285714285714,
          9.219999999999999,
          12.671428571428573,
          11.875,
          9.700000000000001,
          12.085714285714285,
          15.625,
          9.442857142857141,
          11.4,
          9.959999999999999,
          13.866666666666667,
          11.1,
          10,
          7.6000000000000005,
          10.450000000000001,
          null,
          9.257142857142856,
          8.9375,
          16.599999999999998,
          10.25,
          9.75
         ],
         "yaxis": "y"
        }
       ],
       "layout": {
        "barmode": "group",
        "coloraxis": {
         "colorbar": {
          "title": {
           "text": "Year"
          }
         },
         "colorscale": [
          [
           0,
           "#0d0887"
          ],
          [
           0.1111111111111111,
           "#46039f"
          ],
          [
           0.2222222222222222,
           "#7201a8"
          ],
          [
           0.3333333333333333,
           "#9c179e"
          ],
          [
           0.4444444444444444,
           "#bd3786"
          ],
          [
           0.5555555555555556,
           "#d8576b"
          ],
          [
           0.6666666666666666,
           "#ed7953"
          ],
          [
           0.7777777777777778,
           "#fb9f3a"
          ],
          [
           0.8888888888888888,
           "#fdca26"
          ],
          [
           1,
           "#f0f921"
          ]
         ]
        },
        "legend": {
         "title": {
          "text": "Year"
         },
         "tracegroupgap": 0
        },
        "template": {
         "data": {
          "bar": [
           {
            "error_x": {
             "color": "#2a3f5f"
            },
            "error_y": {
             "color": "#2a3f5f"
            },
            "marker": {
             "line": {
              "color": "white",
              "width": 0.5
             },
             "pattern": {
              "fillmode": "overlay",
              "size": 10,
              "solidity": 0.2
             }
            },
            "type": "bar"
           }
          ],
          "barpolar": [
           {
            "marker": {
             "line": {
              "color": "white",
              "width": 0.5
             },
             "pattern": {
              "fillmode": "overlay",
              "size": 10,
              "solidity": 0.2
             }
            },
            "type": "barpolar"
           }
          ],
          "carpet": [
           {
            "aaxis": {
             "endlinecolor": "#2a3f5f",
             "gridcolor": "#C8D4E3",
             "linecolor": "#C8D4E3",
             "minorgridcolor": "#C8D4E3",
             "startlinecolor": "#2a3f5f"
            },
            "baxis": {
             "endlinecolor": "#2a3f5f",
             "gridcolor": "#C8D4E3",
             "linecolor": "#C8D4E3",
             "minorgridcolor": "#C8D4E3",
             "startlinecolor": "#2a3f5f"
            },
            "type": "carpet"
           }
          ],
          "choropleth": [
           {
            "colorbar": {
             "outlinewidth": 0,
             "ticks": ""
            },
            "type": "choropleth"
           }
          ],
          "contour": [
           {
            "colorbar": {
             "outlinewidth": 0,
             "ticks": ""
            },
            "colorscale": [
             [
              0,
              "#0d0887"
             ],
             [
              0.1111111111111111,
              "#46039f"
             ],
             [
              0.2222222222222222,
              "#7201a8"
             ],
             [
              0.3333333333333333,
              "#9c179e"
             ],
             [
              0.4444444444444444,
              "#bd3786"
             ],
             [
              0.5555555555555556,
              "#d8576b"
             ],
             [
              0.6666666666666666,
              "#ed7953"
             ],
             [
              0.7777777777777778,
              "#fb9f3a"
             ],
             [
              0.8888888888888888,
              "#fdca26"
             ],
             [
              1,
              "#f0f921"
             ]
            ],
            "type": "contour"
           }
          ],
          "contourcarpet": [
           {
            "colorbar": {
             "outlinewidth": 0,
             "ticks": ""
            },
            "type": "contourcarpet"
           }
          ],
          "heatmap": [
           {
            "colorbar": {
             "outlinewidth": 0,
             "ticks": ""
            },
            "colorscale": [
             [
              0,
              "#0d0887"
             ],
             [
              0.1111111111111111,
              "#46039f"
             ],
             [
              0.2222222222222222,
              "#7201a8"
             ],
             [
              0.3333333333333333,
              "#9c179e"
             ],
             [
              0.4444444444444444,
              "#bd3786"
             ],
             [
              0.5555555555555556,
              "#d8576b"
             ],
             [
              0.6666666666666666,
              "#ed7953"
             ],
             [
              0.7777777777777778,
              "#fb9f3a"
             ],
             [
              0.8888888888888888,
              "#fdca26"
             ],
             [
              1,
              "#f0f921"
             ]
            ],
            "type": "heatmap"
           }
          ],
          "heatmapgl": [
           {
            "colorbar": {
             "outlinewidth": 0,
             "ticks": ""
            },
            "colorscale": [
             [
              0,
              "#0d0887"
             ],
             [
              0.1111111111111111,
              "#46039f"
             ],
             [
              0.2222222222222222,
              "#7201a8"
             ],
             [
              0.3333333333333333,
              "#9c179e"
             ],
             [
              0.4444444444444444,
              "#bd3786"
             ],
             [
              0.5555555555555556,
              "#d8576b"
             ],
             [
              0.6666666666666666,
              "#ed7953"
             ],
             [
              0.7777777777777778,
              "#fb9f3a"
             ],
             [
              0.8888888888888888,
              "#fdca26"
             ],
             [
              1,
              "#f0f921"
             ]
            ],
            "type": "heatmapgl"
           }
          ],
          "histogram": [
           {
            "marker": {
             "pattern": {
              "fillmode": "overlay",
              "size": 10,
              "solidity": 0.2
             }
            },
            "type": "histogram"
           }
          ],
          "histogram2d": [
           {
            "colorbar": {
             "outlinewidth": 0,
             "ticks": ""
            },
            "colorscale": [
             [
              0,
              "#0d0887"
             ],
             [
              0.1111111111111111,
              "#46039f"
             ],
             [
              0.2222222222222222,
              "#7201a8"
             ],
             [
              0.3333333333333333,
              "#9c179e"
             ],
             [
              0.4444444444444444,
              "#bd3786"
             ],
             [
              0.5555555555555556,
              "#d8576b"
             ],
             [
              0.6666666666666666,
              "#ed7953"
             ],
             [
              0.7777777777777778,
              "#fb9f3a"
             ],
             [
              0.8888888888888888,
              "#fdca26"
             ],
             [
              1,
              "#f0f921"
             ]
            ],
            "type": "histogram2d"
           }
          ],
          "histogram2dcontour": [
           {
            "colorbar": {
             "outlinewidth": 0,
             "ticks": ""
            },
            "colorscale": [
             [
              0,
              "#0d0887"
             ],
             [
              0.1111111111111111,
              "#46039f"
             ],
             [
              0.2222222222222222,
              "#7201a8"
             ],
             [
              0.3333333333333333,
              "#9c179e"
             ],
             [
              0.4444444444444444,
              "#bd3786"
             ],
             [
              0.5555555555555556,
              "#d8576b"
             ],
             [
              0.6666666666666666,
              "#ed7953"
             ],
             [
              0.7777777777777778,
              "#fb9f3a"
             ],
             [
              0.8888888888888888,
              "#fdca26"
             ],
             [
              1,
              "#f0f921"
             ]
            ],
            "type": "histogram2dcontour"
           }
          ],
          "mesh3d": [
           {
            "colorbar": {
             "outlinewidth": 0,
             "ticks": ""
            },
            "type": "mesh3d"
           }
          ],
          "parcoords": [
           {
            "line": {
             "colorbar": {
              "outlinewidth": 0,
              "ticks": ""
             }
            },
            "type": "parcoords"
           }
          ],
          "pie": [
           {
            "automargin": true,
            "type": "pie"
           }
          ],
          "scatter": [
           {
            "fillpattern": {
             "fillmode": "overlay",
             "size": 10,
             "solidity": 0.2
            },
            "type": "scatter"
           }
          ],
          "scatter3d": [
           {
            "line": {
             "colorbar": {
              "outlinewidth": 0,
              "ticks": ""
             }
            },
            "marker": {
             "colorbar": {
              "outlinewidth": 0,
              "ticks": ""
             }
            },
            "type": "scatter3d"
           }
          ],
          "scattercarpet": [
           {
            "marker": {
             "colorbar": {
              "outlinewidth": 0,
              "ticks": ""
             }
            },
            "type": "scattercarpet"
           }
          ],
          "scattergeo": [
           {
            "marker": {
             "colorbar": {
              "outlinewidth": 0,
              "ticks": ""
             }
            },
            "type": "scattergeo"
           }
          ],
          "scattergl": [
           {
            "marker": {
             "colorbar": {
              "outlinewidth": 0,
              "ticks": ""
             }
            },
            "type": "scattergl"
           }
          ],
          "scattermapbox": [
           {
            "marker": {
             "colorbar": {
              "outlinewidth": 0,
              "ticks": ""
             }
            },
            "type": "scattermapbox"
           }
          ],
          "scatterpolar": [
           {
            "marker": {
             "colorbar": {
              "outlinewidth": 0,
              "ticks": ""
             }
            },
            "type": "scatterpolar"
           }
          ],
          "scatterpolargl": [
           {
            "marker": {
             "colorbar": {
              "outlinewidth": 0,
              "ticks": ""
             }
            },
            "type": "scatterpolargl"
           }
          ],
          "scatterternary": [
           {
            "marker": {
             "colorbar": {
              "outlinewidth": 0,
              "ticks": ""
             }
            },
            "type": "scatterternary"
           }
          ],
          "surface": [
           {
            "colorbar": {
             "outlinewidth": 0,
             "ticks": ""
            },
            "colorscale": [
             [
              0,
              "#0d0887"
             ],
             [
              0.1111111111111111,
              "#46039f"
             ],
             [
              0.2222222222222222,
              "#7201a8"
             ],
             [
              0.3333333333333333,
              "#9c179e"
             ],
             [
              0.4444444444444444,
              "#bd3786"
             ],
             [
              0.5555555555555556,
              "#d8576b"
             ],
             [
              0.6666666666666666,
              "#ed7953"
             ],
             [
              0.7777777777777778,
              "#fb9f3a"
             ],
             [
              0.8888888888888888,
              "#fdca26"
             ],
             [
              1,
              "#f0f921"
             ]
            ],
            "type": "surface"
           }
          ],
          "table": [
           {
            "cells": {
             "fill": {
              "color": "#EBF0F8"
             },
             "line": {
              "color": "white"
             }
            },
            "header": {
             "fill": {
              "color": "#C8D4E3"
             },
             "line": {
              "color": "white"
             }
            },
            "type": "table"
           }
          ]
         },
         "layout": {
          "annotationdefaults": {
           "arrowcolor": "#2a3f5f",
           "arrowhead": 0,
           "arrowwidth": 1
          },
          "autotypenumbers": "strict",
          "coloraxis": {
           "colorbar": {
            "outlinewidth": 0,
            "ticks": ""
           }
          },
          "colorscale": {
           "diverging": [
            [
             0,
             "#8e0152"
            ],
            [
             0.1,
             "#c51b7d"
            ],
            [
             0.2,
             "#de77ae"
            ],
            [
             0.3,
             "#f1b6da"
            ],
            [
             0.4,
             "#fde0ef"
            ],
            [
             0.5,
             "#f7f7f7"
            ],
            [
             0.6,
             "#e6f5d0"
            ],
            [
             0.7,
             "#b8e186"
            ],
            [
             0.8,
             "#7fbc41"
            ],
            [
             0.9,
             "#4d9221"
            ],
            [
             1,
             "#276419"
            ]
           ],
           "sequential": [
            [
             0,
             "#0d0887"
            ],
            [
             0.1111111111111111,
             "#46039f"
            ],
            [
             0.2222222222222222,
             "#7201a8"
            ],
            [
             0.3333333333333333,
             "#9c179e"
            ],
            [
             0.4444444444444444,
             "#bd3786"
            ],
            [
             0.5555555555555556,
             "#d8576b"
            ],
            [
             0.6666666666666666,
             "#ed7953"
            ],
            [
             0.7777777777777778,
             "#fb9f3a"
            ],
            [
             0.8888888888888888,
             "#fdca26"
            ],
            [
             1,
             "#f0f921"
            ]
           ],
           "sequentialminus": [
            [
             0,
             "#0d0887"
            ],
            [
             0.1111111111111111,
             "#46039f"
            ],
            [
             0.2222222222222222,
             "#7201a8"
            ],
            [
             0.3333333333333333,
             "#9c179e"
            ],
            [
             0.4444444444444444,
             "#bd3786"
            ],
            [
             0.5555555555555556,
             "#d8576b"
            ],
            [
             0.6666666666666666,
             "#ed7953"
            ],
            [
             0.7777777777777778,
             "#fb9f3a"
            ],
            [
             0.8888888888888888,
             "#fdca26"
            ],
            [
             1,
             "#f0f921"
            ]
           ]
          },
          "colorway": [
           "#636efa",
           "#EF553B",
           "#00cc96",
           "#ab63fa",
           "#FFA15A",
           "#19d3f3",
           "#FF6692",
           "#B6E880",
           "#FF97FF",
           "#FECB52"
          ],
          "font": {
           "color": "#2a3f5f"
          },
          "geo": {
           "bgcolor": "white",
           "lakecolor": "white",
           "landcolor": "white",
           "showlakes": true,
           "showland": true,
           "subunitcolor": "#C8D4E3"
          },
          "hoverlabel": {
           "align": "left"
          },
          "hovermode": "closest",
          "mapbox": {
           "style": "light"
          },
          "paper_bgcolor": "white",
          "plot_bgcolor": "white",
          "polar": {
           "angularaxis": {
            "gridcolor": "#EBF0F8",
            "linecolor": "#EBF0F8",
            "ticks": ""
           },
           "bgcolor": "white",
           "radialaxis": {
            "gridcolor": "#EBF0F8",
            "linecolor": "#EBF0F8",
            "ticks": ""
           }
          },
          "scene": {
           "xaxis": {
            "backgroundcolor": "white",
            "gridcolor": "#DFE8F3",
            "gridwidth": 2,
            "linecolor": "#EBF0F8",
            "showbackground": true,
            "ticks": "",
            "zerolinecolor": "#EBF0F8"
           },
           "yaxis": {
            "backgroundcolor": "white",
            "gridcolor": "#DFE8F3",
            "gridwidth": 2,
            "linecolor": "#EBF0F8",
            "showbackground": true,
            "ticks": "",
            "zerolinecolor": "#EBF0F8"
           },
           "zaxis": {
            "backgroundcolor": "white",
            "gridcolor": "#DFE8F3",
            "gridwidth": 2,
            "linecolor": "#EBF0F8",
            "showbackground": true,
            "ticks": "",
            "zerolinecolor": "#EBF0F8"
           }
          },
          "shapedefaults": {
           "line": {
            "color": "#2a3f5f"
           }
          },
          "ternary": {
           "aaxis": {
            "gridcolor": "#DFE8F3",
            "linecolor": "#A2B1C6",
            "ticks": ""
           },
           "baxis": {
            "gridcolor": "#DFE8F3",
            "linecolor": "#A2B1C6",
            "ticks": ""
           },
           "bgcolor": "white",
           "caxis": {
            "gridcolor": "#DFE8F3",
            "linecolor": "#A2B1C6",
            "ticks": ""
           }
          },
          "title": {
           "x": 0.05
          },
          "xaxis": {
           "automargin": true,
           "gridcolor": "#EBF0F8",
           "linecolor": "#EBF0F8",
           "ticks": "",
           "title": {
            "standoff": 15
           },
           "zerolinecolor": "#EBF0F8",
           "zerolinewidth": 2
          },
          "yaxis": {
           "automargin": true,
           "gridcolor": "#EBF0F8",
           "linecolor": "#EBF0F8",
           "ticks": "",
           "title": {
            "standoff": 15
           },
           "zerolinecolor": "#EBF0F8",
           "zerolinewidth": 2
          }
         }
        },
        "title": {
         "text": "Mean Value number of Prevalence of diagnosed diabetes among adults aged >= 18 years",
         "x": 0.5
        },
        "xaxis": {
         "anchor": "y",
         "domain": [
          0,
          1
         ],
         "title": {
          "text": "City"
         }
        },
        "yaxis": {
         "anchor": "x",
         "domain": [
          0,
          1
         ],
         "title": {
          "text": "Mean"
         }
        }
       }
      }
     },
     "metadata": {},
     "output_type": "display_data"
    },
    {
     "name": "stdout",
     "output_type": "stream",
     "text": [
      "\n"
     ]
    }
   ],
   "source": [
    "# Filter for 'Mean' DataValueType and 'Diabetes' Disease\n",
    "diabetes_data = filtered_collected_data[(filtered_collected_data['DataValueType'] == 'Crude Prevalence') & (filtered_collected_data['Disease'].str.contains('Diabetes', case=False))]\n",
    "\n",
    "# filtering two types of questions from diabetes \n",
    "questions_filter = ['Prevalence of diagnosed diabetes among adults aged >= 18 years',\n",
    "                    'Adults with diagnosed diabetes aged >= 18 years who have taken a diabetes self-management course']\n",
    "\n",
    "# Filter the diabetes_data based on the specific questions\n",
    "filtered_diabetes_data = diabetes_data[diabetes_data['Question'].isin(questions_filter)]\n",
    "\n",
    "# Loop through each unique type of data in the 'Question' column\n",
    "questions = filtered_diabetes_data['Question'].unique()\n",
    "\n",
    "for question in questions:\n",
    "    question_data = filtered_diabetes_data[filtered_diabetes_data['Question'] == question]\n",
    "    if question_data.empty:\n",
    "        print(f\"No data available for question: {question}\")\n",
    "        continue\n",
    "\n",
    "    # Plotting graphs of DataValueAlt to check distribution\n",
    "    fig, axs = plt.subplots(1, 2, figsize=(12, 5))\n",
    "\n",
    "    # Histogram\n",
    "    diab_data = question_data['DataValueAlt'].dropna()\n",
    "    axs[0].hist(diab_data,bins=10,density=True, alpha=0.6, color='b')\n",
    "    \n",
    "    mu, std = norm.fit(diab_data)\n",
    "\n",
    "    xmin, xmax = axs[0].get_xlim()\n",
    "    x = np.linspace(xmin, xmax, 100)\n",
    "    p = norm.pdf(x, mu, std)\n",
    "    axs[0].plot(x, p, 'k', linewidth=2)\n",
    "    axs[0].set_xlabel('DataValueAlt')\n",
    "    axs[0].set_ylabel('Density')\n",
    "    axs[0].set_title(f'Histogram with Gaussian Fit for {question}')\n",
    "\n",
    "    # Boxplot\n",
    "    axs[1].boxplot(diab_data.values)\n",
    "    axs[1].set_xlabel('DataValueAlt')\n",
    "    axs[1].set_ylabel('Values')\n",
    "    axs[1].set_title(f'Boxplot of \"DataValueAlt\" for {question}')\n",
    "    axs[1].grid(False)\n",
    "\n",
    "    # Adjusting the layout\n",
    "    plt.tight_layout()\n",
    "    plt.show()\n",
    "\n",
    "    print(f'Here is the description of the dataset for the column \"DataValueAlt\" for\\n {question}:\\n')\n",
    "    print(question_data['DataValueAlt'].describe())\n",
    "\n",
    "    # Calculating the outliers\n",
    "    Q1 = question_data['DataValueAlt'].quantile(0.25)\n",
    "    Q3 = question_data['DataValueAlt'].quantile(0.75)\n",
    "    IQR = Q3 - Q1\n",
    "    inferior_limit = Q1 - 1.5 * IQR\n",
    "    superior_limit = Q3 + 1.5 * IQR\n",
    "\n",
    "    # Filtering the outliers\n",
    "    outliers = question_data[(question_data['DataValueAlt'] < inferior_limit) | (question_data['DataValueAlt'] > superior_limit)]\n",
    "\n",
    "    print(f\"The superior limit is {superior_limit:.2f}.\\n The inferior limit is {inferior_limit:.2f}.\\n The Interquartile Range is {IQR:.2f}.\")\n",
    "    \n",
    "    # Grouping data by 'YearStart' and 'LocationDesc' and calculating the mean of 'DataValueAlt'\n",
    "    grouped_data = question_data.groupby(['YearStart', 'LocationDesc'])['DataValueAlt'].mean().reset_index()\n",
    "    \n",
    "    # Creating an interactive bar graph for the full dataset\n",
    "    fig_full_data = px.bar(grouped_data,\n",
    "                           x='LocationDesc',\n",
    "                           y='DataValueAlt',\n",
    "                           color='YearStart',\n",
    "                           barmode='group',\n",
    "                           title=f'Mean Value number of {question}',\n",
    "                           labels={'DataValueAlt': 'Mean', 'LocationDesc': 'City', 'YearStart': 'Year'})\n",
    "\n",
    "    # Updating the layout for a modern look\n",
    "    fig_full_data.update_layout(\n",
    "        template='plotly_white',  # Choose a modern template\n",
    "        xaxis_title='City',\n",
    "        yaxis_title='Mean',\n",
    "        title_x=0.5,  # Center the title\n",
    "        legend_title_text='Year'\n",
    "    )\n",
    "\n",
    "    # Show the figure\n",
    "    fig_full_data.show()\n",
    "\n",
    "    print()"
   ]
  },
  {
   "cell_type": "markdown",
   "metadata": {},
   "source": [
    "<h2>Key information on Diabetes</h2>\n",
    "In this part of the dataset we analyzed the prevalence of diagnosed Diabetes in adults over 18 y.o. and the percentage of people in this group who have taken a self-management course. \n",
    "<br><br>\n",
    "The distribution of each group is normal and the descriptive statistics gives us the following information:<br>\n",
    "The prevalence of Diabetes in the american population is 10,47% from 2012 to 2014. Approximately 54% of those patients have been trained to manage the disease without direct medical assistance. This training includes: nutritional guidance, taking medicine as prescribed, monitoring of blood sugar levels, emotional well-being and actions to reduce the chances of diabetes complications.\n",
    "<br><br>\n",
    "It was noted that 14 states did not have data for each year analyzed on the self-management course and 7 of them has no data available. This is due to the lack of information given by the states when the research was conducted or data has more than 30% of total error.\n",
    "<br><br>\n",
    "The code below generates a graph with the overall prevalence between genders. "
   ]
  },
  {
   "cell_type": "code",
   "execution_count": 19,
   "metadata": {},
   "outputs": [
    {
     "data": {
      "application/vnd.plotly.v1+json": {
       "config": {
        "plotlyServerURL": "https://plot.ly"
       },
       "data": [
        {
         "alignmentgroup": "True",
         "hovertemplate": "Gender=Female<br>City=%{x}<br>Mean=%{y}<extra></extra>",
         "legendgroup": "Female",
         "marker": {
          "color": "#636efa",
          "pattern": {
           "shape": ""
          }
         },
         "name": "Female",
         "offsetgroup": "Female",
         "orientation": "v",
         "showlegend": true,
         "textposition": "auto",
         "type": "bar",
         "x": [
          "Alabama",
          "Alaska",
          "Arizona",
          "Arkansas",
          "California",
          "Colorado",
          "Connecticut",
          "Delaware",
          "District of Columbia",
          "Florida",
          "Georgia",
          "Guam",
          "Hawaii",
          "Idaho",
          "Illinois",
          "Indiana",
          "Iowa",
          "Kansas",
          "Kentucky",
          "Louisiana",
          "Maine",
          "Maryland",
          "Massachusetts",
          "Michigan",
          "Minnesota",
          "Mississippi",
          "Missouri",
          "Montana",
          "Nebraska",
          "Nevada",
          "New Hampshire",
          "New Jersey",
          "New Mexico",
          "New York",
          "North Carolina",
          "North Dakota",
          "Ohio",
          "Oklahoma",
          "Oregon",
          "Pennsylvania",
          "Puerto Rico",
          "Rhode Island",
          "South Carolina",
          "South Dakota",
          "Tennessee",
          "Texas",
          "United States",
          "Utah",
          "Vermont",
          "Virgin Islands",
          "Virginia",
          "Washington",
          "West Virginia",
          "Wisconsin",
          "Wyoming"
         ],
         "xaxis": "x",
         "y": [
          13.55,
          7.6,
          9.65,
          11.5,
          9.95,
          6.45,
          8.35,
          10.899999999999999,
          8.7,
          10.8,
          11.6,
          13.15,
          8.9,
          7.4,
          9.95,
          10.3,
          9.100000000000001,
          9.850000000000001,
          11.7,
          11.9,
          8.8,
          9.85,
          8.1,
          9.649999999999999,
          7.25,
          13.55,
          10.55,
          7.75,
          8.45,
          8.75,
          8.2,
          8.75,
          11,
          10.2,
          11,
          7.8,
          10.8,
          10.899999999999999,
          8.899999999999999,
          10.35,
          16.049999999999997,
          8.35,
          12.65,
          8.899999999999999,
          12.4,
          10.45,
          9.6,
          6.75,
          7.05,
          null,
          9.75,
          8.1,
          13.35,
          8.5,
          8.05
         ],
         "yaxis": "y"
        },
        {
         "alignmentgroup": "True",
         "hovertemplate": "Gender=Male<br>City=%{x}<br>Mean=%{y}<extra></extra>",
         "legendgroup": "Male",
         "marker": {
          "color": "#EF553B",
          "pattern": {
           "shape": ""
          }
         },
         "name": "Male",
         "offsetgroup": "Male",
         "orientation": "v",
         "showlegend": true,
         "textposition": "auto",
         "type": "bar",
         "x": [
          "Alabama",
          "Alaska",
          "Arizona",
          "Arkansas",
          "California",
          "Colorado",
          "Connecticut",
          "Delaware",
          "District of Columbia",
          "Florida",
          "Georgia",
          "Guam",
          "Hawaii",
          "Idaho",
          "Illinois",
          "Indiana",
          "Iowa",
          "Kansas",
          "Kentucky",
          "Louisiana",
          "Maine",
          "Maryland",
          "Massachusetts",
          "Michigan",
          "Minnesota",
          "Mississippi",
          "Missouri",
          "Montana",
          "Nebraska",
          "Nevada",
          "New Hampshire",
          "New Jersey",
          "New Mexico",
          "New York",
          "North Carolina",
          "North Dakota",
          "Ohio",
          "Oklahoma",
          "Oregon",
          "Pennsylvania",
          "Puerto Rico",
          "Rhode Island",
          "South Carolina",
          "South Dakota",
          "Tennessee",
          "Texas",
          "United States",
          "Utah",
          "Vermont",
          "Virgin Islands",
          "Virginia",
          "Washington",
          "West Virginia",
          "Wisconsin",
          "Wyoming"
         ],
         "xaxis": "x",
         "y": [
          13.25,
          6.9,
          11.05,
          12.8,
          10.55,
          7.3,
          9.3,
          11.25,
          7.45,
          11.55,
          10.7,
          11.75,
          9.2,
          8.6,
          10.05,
          11.399999999999999,
          9.7,
          10.05,
          11.45,
          10.95,
          10.350000000000001,
          10,
          10.25,
          11.05,
          8.3,
          12.25,
          10.2,
          8.65,
          9.899999999999999,
          10.35,
          10.15,
          10.2,
          11.25,
          10.399999999999999,
          11.2,
          9.7,
          11.3,
          12.2,
          9.25,
          11,
          14.4,
          10.45,
          11.85,
          9.35,
          12.85,
          11.5,
          10.3,
          7.45,
          8.6,
          null,
          9.8,
          9.35,
          13.8,
          8.7,
          8.9
         ],
         "yaxis": "y"
        }
       ],
       "layout": {
        "barmode": "group",
        "legend": {
         "title": {
          "text": "Gender"
         },
         "tracegroupgap": 0
        },
        "template": {
         "data": {
          "bar": [
           {
            "error_x": {
             "color": "#2a3f5f"
            },
            "error_y": {
             "color": "#2a3f5f"
            },
            "marker": {
             "line": {
              "color": "white",
              "width": 0.5
             },
             "pattern": {
              "fillmode": "overlay",
              "size": 10,
              "solidity": 0.2
             }
            },
            "type": "bar"
           }
          ],
          "barpolar": [
           {
            "marker": {
             "line": {
              "color": "white",
              "width": 0.5
             },
             "pattern": {
              "fillmode": "overlay",
              "size": 10,
              "solidity": 0.2
             }
            },
            "type": "barpolar"
           }
          ],
          "carpet": [
           {
            "aaxis": {
             "endlinecolor": "#2a3f5f",
             "gridcolor": "#C8D4E3",
             "linecolor": "#C8D4E3",
             "minorgridcolor": "#C8D4E3",
             "startlinecolor": "#2a3f5f"
            },
            "baxis": {
             "endlinecolor": "#2a3f5f",
             "gridcolor": "#C8D4E3",
             "linecolor": "#C8D4E3",
             "minorgridcolor": "#C8D4E3",
             "startlinecolor": "#2a3f5f"
            },
            "type": "carpet"
           }
          ],
          "choropleth": [
           {
            "colorbar": {
             "outlinewidth": 0,
             "ticks": ""
            },
            "type": "choropleth"
           }
          ],
          "contour": [
           {
            "colorbar": {
             "outlinewidth": 0,
             "ticks": ""
            },
            "colorscale": [
             [
              0,
              "#0d0887"
             ],
             [
              0.1111111111111111,
              "#46039f"
             ],
             [
              0.2222222222222222,
              "#7201a8"
             ],
             [
              0.3333333333333333,
              "#9c179e"
             ],
             [
              0.4444444444444444,
              "#bd3786"
             ],
             [
              0.5555555555555556,
              "#d8576b"
             ],
             [
              0.6666666666666666,
              "#ed7953"
             ],
             [
              0.7777777777777778,
              "#fb9f3a"
             ],
             [
              0.8888888888888888,
              "#fdca26"
             ],
             [
              1,
              "#f0f921"
             ]
            ],
            "type": "contour"
           }
          ],
          "contourcarpet": [
           {
            "colorbar": {
             "outlinewidth": 0,
             "ticks": ""
            },
            "type": "contourcarpet"
           }
          ],
          "heatmap": [
           {
            "colorbar": {
             "outlinewidth": 0,
             "ticks": ""
            },
            "colorscale": [
             [
              0,
              "#0d0887"
             ],
             [
              0.1111111111111111,
              "#46039f"
             ],
             [
              0.2222222222222222,
              "#7201a8"
             ],
             [
              0.3333333333333333,
              "#9c179e"
             ],
             [
              0.4444444444444444,
              "#bd3786"
             ],
             [
              0.5555555555555556,
              "#d8576b"
             ],
             [
              0.6666666666666666,
              "#ed7953"
             ],
             [
              0.7777777777777778,
              "#fb9f3a"
             ],
             [
              0.8888888888888888,
              "#fdca26"
             ],
             [
              1,
              "#f0f921"
             ]
            ],
            "type": "heatmap"
           }
          ],
          "heatmapgl": [
           {
            "colorbar": {
             "outlinewidth": 0,
             "ticks": ""
            },
            "colorscale": [
             [
              0,
              "#0d0887"
             ],
             [
              0.1111111111111111,
              "#46039f"
             ],
             [
              0.2222222222222222,
              "#7201a8"
             ],
             [
              0.3333333333333333,
              "#9c179e"
             ],
             [
              0.4444444444444444,
              "#bd3786"
             ],
             [
              0.5555555555555556,
              "#d8576b"
             ],
             [
              0.6666666666666666,
              "#ed7953"
             ],
             [
              0.7777777777777778,
              "#fb9f3a"
             ],
             [
              0.8888888888888888,
              "#fdca26"
             ],
             [
              1,
              "#f0f921"
             ]
            ],
            "type": "heatmapgl"
           }
          ],
          "histogram": [
           {
            "marker": {
             "pattern": {
              "fillmode": "overlay",
              "size": 10,
              "solidity": 0.2
             }
            },
            "type": "histogram"
           }
          ],
          "histogram2d": [
           {
            "colorbar": {
             "outlinewidth": 0,
             "ticks": ""
            },
            "colorscale": [
             [
              0,
              "#0d0887"
             ],
             [
              0.1111111111111111,
              "#46039f"
             ],
             [
              0.2222222222222222,
              "#7201a8"
             ],
             [
              0.3333333333333333,
              "#9c179e"
             ],
             [
              0.4444444444444444,
              "#bd3786"
             ],
             [
              0.5555555555555556,
              "#d8576b"
             ],
             [
              0.6666666666666666,
              "#ed7953"
             ],
             [
              0.7777777777777778,
              "#fb9f3a"
             ],
             [
              0.8888888888888888,
              "#fdca26"
             ],
             [
              1,
              "#f0f921"
             ]
            ],
            "type": "histogram2d"
           }
          ],
          "histogram2dcontour": [
           {
            "colorbar": {
             "outlinewidth": 0,
             "ticks": ""
            },
            "colorscale": [
             [
              0,
              "#0d0887"
             ],
             [
              0.1111111111111111,
              "#46039f"
             ],
             [
              0.2222222222222222,
              "#7201a8"
             ],
             [
              0.3333333333333333,
              "#9c179e"
             ],
             [
              0.4444444444444444,
              "#bd3786"
             ],
             [
              0.5555555555555556,
              "#d8576b"
             ],
             [
              0.6666666666666666,
              "#ed7953"
             ],
             [
              0.7777777777777778,
              "#fb9f3a"
             ],
             [
              0.8888888888888888,
              "#fdca26"
             ],
             [
              1,
              "#f0f921"
             ]
            ],
            "type": "histogram2dcontour"
           }
          ],
          "mesh3d": [
           {
            "colorbar": {
             "outlinewidth": 0,
             "ticks": ""
            },
            "type": "mesh3d"
           }
          ],
          "parcoords": [
           {
            "line": {
             "colorbar": {
              "outlinewidth": 0,
              "ticks": ""
             }
            },
            "type": "parcoords"
           }
          ],
          "pie": [
           {
            "automargin": true,
            "type": "pie"
           }
          ],
          "scatter": [
           {
            "fillpattern": {
             "fillmode": "overlay",
             "size": 10,
             "solidity": 0.2
            },
            "type": "scatter"
           }
          ],
          "scatter3d": [
           {
            "line": {
             "colorbar": {
              "outlinewidth": 0,
              "ticks": ""
             }
            },
            "marker": {
             "colorbar": {
              "outlinewidth": 0,
              "ticks": ""
             }
            },
            "type": "scatter3d"
           }
          ],
          "scattercarpet": [
           {
            "marker": {
             "colorbar": {
              "outlinewidth": 0,
              "ticks": ""
             }
            },
            "type": "scattercarpet"
           }
          ],
          "scattergeo": [
           {
            "marker": {
             "colorbar": {
              "outlinewidth": 0,
              "ticks": ""
             }
            },
            "type": "scattergeo"
           }
          ],
          "scattergl": [
           {
            "marker": {
             "colorbar": {
              "outlinewidth": 0,
              "ticks": ""
             }
            },
            "type": "scattergl"
           }
          ],
          "scattermapbox": [
           {
            "marker": {
             "colorbar": {
              "outlinewidth": 0,
              "ticks": ""
             }
            },
            "type": "scattermapbox"
           }
          ],
          "scatterpolar": [
           {
            "marker": {
             "colorbar": {
              "outlinewidth": 0,
              "ticks": ""
             }
            },
            "type": "scatterpolar"
           }
          ],
          "scatterpolargl": [
           {
            "marker": {
             "colorbar": {
              "outlinewidth": 0,
              "ticks": ""
             }
            },
            "type": "scatterpolargl"
           }
          ],
          "scatterternary": [
           {
            "marker": {
             "colorbar": {
              "outlinewidth": 0,
              "ticks": ""
             }
            },
            "type": "scatterternary"
           }
          ],
          "surface": [
           {
            "colorbar": {
             "outlinewidth": 0,
             "ticks": ""
            },
            "colorscale": [
             [
              0,
              "#0d0887"
             ],
             [
              0.1111111111111111,
              "#46039f"
             ],
             [
              0.2222222222222222,
              "#7201a8"
             ],
             [
              0.3333333333333333,
              "#9c179e"
             ],
             [
              0.4444444444444444,
              "#bd3786"
             ],
             [
              0.5555555555555556,
              "#d8576b"
             ],
             [
              0.6666666666666666,
              "#ed7953"
             ],
             [
              0.7777777777777778,
              "#fb9f3a"
             ],
             [
              0.8888888888888888,
              "#fdca26"
             ],
             [
              1,
              "#f0f921"
             ]
            ],
            "type": "surface"
           }
          ],
          "table": [
           {
            "cells": {
             "fill": {
              "color": "#EBF0F8"
             },
             "line": {
              "color": "white"
             }
            },
            "header": {
             "fill": {
              "color": "#C8D4E3"
             },
             "line": {
              "color": "white"
             }
            },
            "type": "table"
           }
          ]
         },
         "layout": {
          "annotationdefaults": {
           "arrowcolor": "#2a3f5f",
           "arrowhead": 0,
           "arrowwidth": 1
          },
          "autotypenumbers": "strict",
          "coloraxis": {
           "colorbar": {
            "outlinewidth": 0,
            "ticks": ""
           }
          },
          "colorscale": {
           "diverging": [
            [
             0,
             "#8e0152"
            ],
            [
             0.1,
             "#c51b7d"
            ],
            [
             0.2,
             "#de77ae"
            ],
            [
             0.3,
             "#f1b6da"
            ],
            [
             0.4,
             "#fde0ef"
            ],
            [
             0.5,
             "#f7f7f7"
            ],
            [
             0.6,
             "#e6f5d0"
            ],
            [
             0.7,
             "#b8e186"
            ],
            [
             0.8,
             "#7fbc41"
            ],
            [
             0.9,
             "#4d9221"
            ],
            [
             1,
             "#276419"
            ]
           ],
           "sequential": [
            [
             0,
             "#0d0887"
            ],
            [
             0.1111111111111111,
             "#46039f"
            ],
            [
             0.2222222222222222,
             "#7201a8"
            ],
            [
             0.3333333333333333,
             "#9c179e"
            ],
            [
             0.4444444444444444,
             "#bd3786"
            ],
            [
             0.5555555555555556,
             "#d8576b"
            ],
            [
             0.6666666666666666,
             "#ed7953"
            ],
            [
             0.7777777777777778,
             "#fb9f3a"
            ],
            [
             0.8888888888888888,
             "#fdca26"
            ],
            [
             1,
             "#f0f921"
            ]
           ],
           "sequentialminus": [
            [
             0,
             "#0d0887"
            ],
            [
             0.1111111111111111,
             "#46039f"
            ],
            [
             0.2222222222222222,
             "#7201a8"
            ],
            [
             0.3333333333333333,
             "#9c179e"
            ],
            [
             0.4444444444444444,
             "#bd3786"
            ],
            [
             0.5555555555555556,
             "#d8576b"
            ],
            [
             0.6666666666666666,
             "#ed7953"
            ],
            [
             0.7777777777777778,
             "#fb9f3a"
            ],
            [
             0.8888888888888888,
             "#fdca26"
            ],
            [
             1,
             "#f0f921"
            ]
           ]
          },
          "colorway": [
           "#636efa",
           "#EF553B",
           "#00cc96",
           "#ab63fa",
           "#FFA15A",
           "#19d3f3",
           "#FF6692",
           "#B6E880",
           "#FF97FF",
           "#FECB52"
          ],
          "font": {
           "color": "#2a3f5f"
          },
          "geo": {
           "bgcolor": "white",
           "lakecolor": "white",
           "landcolor": "white",
           "showlakes": true,
           "showland": true,
           "subunitcolor": "#C8D4E3"
          },
          "hoverlabel": {
           "align": "left"
          },
          "hovermode": "closest",
          "mapbox": {
           "style": "light"
          },
          "paper_bgcolor": "white",
          "plot_bgcolor": "white",
          "polar": {
           "angularaxis": {
            "gridcolor": "#EBF0F8",
            "linecolor": "#EBF0F8",
            "ticks": ""
           },
           "bgcolor": "white",
           "radialaxis": {
            "gridcolor": "#EBF0F8",
            "linecolor": "#EBF0F8",
            "ticks": ""
           }
          },
          "scene": {
           "xaxis": {
            "backgroundcolor": "white",
            "gridcolor": "#DFE8F3",
            "gridwidth": 2,
            "linecolor": "#EBF0F8",
            "showbackground": true,
            "ticks": "",
            "zerolinecolor": "#EBF0F8"
           },
           "yaxis": {
            "backgroundcolor": "white",
            "gridcolor": "#DFE8F3",
            "gridwidth": 2,
            "linecolor": "#EBF0F8",
            "showbackground": true,
            "ticks": "",
            "zerolinecolor": "#EBF0F8"
           },
           "zaxis": {
            "backgroundcolor": "white",
            "gridcolor": "#DFE8F3",
            "gridwidth": 2,
            "linecolor": "#EBF0F8",
            "showbackground": true,
            "ticks": "",
            "zerolinecolor": "#EBF0F8"
           }
          },
          "shapedefaults": {
           "line": {
            "color": "#2a3f5f"
           }
          },
          "ternary": {
           "aaxis": {
            "gridcolor": "#DFE8F3",
            "linecolor": "#A2B1C6",
            "ticks": ""
           },
           "baxis": {
            "gridcolor": "#DFE8F3",
            "linecolor": "#A2B1C6",
            "ticks": ""
           },
           "bgcolor": "white",
           "caxis": {
            "gridcolor": "#DFE8F3",
            "linecolor": "#A2B1C6",
            "ticks": ""
           }
          },
          "title": {
           "x": 0.05
          },
          "xaxis": {
           "automargin": true,
           "gridcolor": "#EBF0F8",
           "linecolor": "#EBF0F8",
           "ticks": "",
           "title": {
            "standoff": 15
           },
           "zerolinecolor": "#EBF0F8",
           "zerolinewidth": 2
          },
          "yaxis": {
           "automargin": true,
           "gridcolor": "#EBF0F8",
           "linecolor": "#EBF0F8",
           "ticks": "",
           "title": {
            "standoff": 15
           },
           "zerolinecolor": "#EBF0F8",
           "zerolinewidth": 2
          }
         }
        },
        "title": {
         "text": "Gender Diabetes prevalence between genders",
         "x": 0.5
        },
        "xaxis": {
         "anchor": "y",
         "domain": [
          0,
          1
         ],
         "title": {
          "text": "City"
         }
        },
        "yaxis": {
         "anchor": "x",
         "domain": [
          0,
          1
         ],
         "title": {
          "text": "Mean"
         }
        }
       }
      }
     },
     "metadata": {},
     "output_type": "display_data"
    }
   ],
   "source": [
    "import plotly.express as px\n",
    "\n",
    "# Filters the data for 'Gender' \n",
    "gender_filtered_data = filtered_diabetes_data[(filtered_diabetes_data['StratificationCategory1'] == 'Gender') & \n",
    "                                              (filtered_diabetes_data['Stratification1'].isin(['Male', 'Female']))]\n",
    "\n",
    "\n",
    "question_data = gender_filtered_data[gender_filtered_data['Question'] == 'Prevalence of diagnosed diabetes among adults aged >= 18 years']\n",
    "\n",
    "# Groups data by Year, City and Gender\n",
    "grouped_gender_data = question_data.groupby(['Stratification1', 'LocationDesc'])['DataValueAlt'].mean().reset_index()\n",
    "\n",
    "# Creates the bar graph\n",
    "fig_gender = px.bar(grouped_gender_data,\n",
    "                    x='LocationDesc',\n",
    "                    y='DataValueAlt',\n",
    "                    color='Stratification1',\n",
    "                    barmode='group',\n",
    "                    title=f'Gender Diabetes prevalence between genders',\n",
    "                    labels={'DataValueAlt': 'Mean', 'LocationDesc': 'City', 'Stratification1': 'Gender'})\n",
    "\n",
    "fig_gender.update_layout(\n",
    "    template='plotly_white', xaxis_title='City',yaxis_title='Mean',title_x=0.5, legend_title_text='Gender')\n",
    "\n",
    "fig_gender.show()"
   ]
  },
  {
   "cell_type": "markdown",
   "metadata": {},
   "source": [
    "Visually there is no difference in Diabetes prevalence on genders. <br>To confirm that, the code below performs a t-student test between each gender on each city. If there is no significant difference between datasets (p-value < 0.05), the algorithm will print \"None\"."
   ]
  },
  {
   "cell_type": "code",
   "execution_count": 20,
   "metadata": {},
   "outputs": [
    {
     "name": "stdout",
     "output_type": "stream",
     "text": [
      "                    City T-Statistic P-Value Significant\n",
      "0                Alabama        None    None        None\n",
      "1                 Alaska        None    None        None\n",
      "2                Arizona        None    None        None\n",
      "3               Arkansas        None    None        None\n",
      "4             California        None    None        None\n",
      "5               Colorado        None    None        None\n",
      "6            Connecticut        None    None        None\n",
      "7               Delaware        None    None        None\n",
      "8   District of Columbia        None    None        None\n",
      "9                Florida        None    None        None\n",
      "10               Georgia        None    None        None\n",
      "11                  Guam        None    None        None\n",
      "12                Hawaii        None    None        None\n",
      "13                 Idaho        None    None        None\n",
      "14              Illinois        None    None        None\n",
      "15               Indiana        None    None        None\n",
      "16                  Iowa        None    None        None\n",
      "17                Kansas        None    None        None\n",
      "18              Kentucky        None    None        None\n",
      "19             Louisiana        None    None        None\n",
      "20                 Maine        None    None        None\n",
      "21              Maryland        None    None        None\n",
      "22         Massachusetts        None    None        None\n",
      "23              Michigan        None    None        None\n",
      "24             Minnesota        None    None        None\n",
      "25           Mississippi        None    None        None\n",
      "26              Missouri        None    None        None\n",
      "27               Montana        None    None        None\n",
      "28              Nebraska        None    None        None\n",
      "29                Nevada        None    None        None\n",
      "30         New Hampshire        None    None        None\n",
      "31            New Jersey        None    None        None\n",
      "32            New Mexico        None    None        None\n",
      "33              New York        None    None        None\n",
      "34        North Carolina        None    None        None\n",
      "35          North Dakota        None    None        None\n",
      "36                  Ohio        None    None        None\n",
      "37              Oklahoma        None    None        None\n",
      "38                Oregon        None    None        None\n",
      "39          Pennsylvania        None    None        None\n",
      "40           Puerto Rico        None    None        None\n",
      "41          Rhode Island        None    None        None\n",
      "42        South Carolina        None    None        None\n",
      "43          South Dakota        None    None        None\n",
      "44             Tennessee        None    None        None\n",
      "45                 Texas        None    None        None\n",
      "46         United States        None    None        None\n",
      "47                  Utah        None    None        None\n",
      "48               Vermont        None    None        None\n",
      "49        Virgin Islands        None    None        None\n",
      "50              Virginia        None    None        None\n",
      "51            Washington        None    None        None\n",
      "52         West Virginia        None    None        None\n",
      "53             Wisconsin        None    None        None\n",
      "54               Wyoming        None    None        None\n"
     ]
    }
   ],
   "source": [
    "from scipy.stats import ttest_ind\n",
    "\n",
    "# List for storage of t-student test results\n",
    "t_test_results = []\n",
    "\n",
    "for city in grouped_gender_data['LocationDesc'].unique():\n",
    "    # Filters cities\n",
    "    city_data = grouped_gender_data[grouped_gender_data['LocationDesc'] == city]\n",
    "    \n",
    "    # Grouping data by gender\n",
    "    male_data = city_data[city_data['Stratification1'] == 'Male']['DataValueAlt']\n",
    "    female_data = city_data[city_data['Stratification1'] == 'Female']['DataValueAlt']\n",
    "    \n",
    "    # Checks for enough data to compare\n",
    "    if len(male_data) > 1 and len(female_data) > 1:\n",
    "        # t-student test\n",
    "        t_stat, p_value = ttest_ind(male_data, female_data, equal_var=False)  # equal_var=False assume variâncias desiguais\n",
    "        \n",
    "        t_test_results.append({\n",
    "            'City': city,\n",
    "            'T-Statistic': t_stat,\n",
    "            'P-Value': p_value,\n",
    "            'Significant': p_value < 0.05  \n",
    "        })\n",
    "    else:\n",
    "        t_test_results.append({\n",
    "            'City': city,\n",
    "            'T-Statistic': None,\n",
    "            'P-Value': None,\n",
    "            'Significant': None\n",
    "        })\n",
    "\n",
    "t_test_results_df = pd.DataFrame(t_test_results)\n",
    "print(t_test_results_df)"
   ]
  },
  {
   "cell_type": "markdown",
   "metadata": {},
   "source": [
    "<h1>Conclusion</h1>\n",
    "The use of clean-up techniques and descriptive statistics allowed for the extraction and summarization of information about the dataset. The use of more sophisticated methods are not always necessary depending on the questions that are trying to be answered. A well done job on the first steps of data preparation are key to a good evaluation oh the information contained on the numbers and the insights generated have a better chance to represent the reality and solve the problem.\n",
    "<br><br>\n",
    "Obs: My client needed further information over this dataset that was delivered in a report with a non-disclosure agreement. Therefore, both the codes and further analysis will not be published. "
   ]
  }
 ],
 "metadata": {
  "colab": {
   "provenance": []
  },
  "kernelspec": {
   "display_name": "Python 3 (ipykernel)",
   "language": "python",
   "name": "python3"
  },
  "language_info": {
   "codemirror_mode": {
    "name": "ipython",
    "version": 3
   },
   "file_extension": ".py",
   "mimetype": "text/x-python",
   "name": "python",
   "nbconvert_exporter": "python",
   "pygments_lexer": "ipython3",
   "version": "3.12.3"
  }
 },
 "nbformat": 4,
 "nbformat_minor": 4
}
